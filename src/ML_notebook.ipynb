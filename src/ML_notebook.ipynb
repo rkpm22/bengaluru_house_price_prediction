{
 "cells": [
  {
   "cell_type": "markdown",
   "id": "02e24a63-08a0-4eca-8f33-756dd0069306",
   "metadata": {},
   "source": [
    "# Bengaluru House Price Prediction\n",
    "## Data Analysis and Machine Learning Model\n",
    "\n",
    "This project aims to analyze house price data in Bengaluru and build a predictive model. We will:\n",
    "- Explore and clean the data\n",
    "- Engineer relevant features\n",
    "- Train and evaluate a regression model to predict prices\n"
   ]
  },
  {
   "cell_type": "code",
   "execution_count": 217,
   "id": "9d6025be-1d08-447d-914b-0c590744162d",
   "metadata": {},
   "outputs": [],
   "source": [
    "# Import necessary libraries\n",
    "import pandas as pd\n",
    "import numpy as np\n",
    "import matplotlib.pyplot as plt\n",
    "import seaborn as sns\n",
    "%matplotlib inline"
   ]
  },
  {
   "cell_type": "markdown",
   "id": "34d6130e-4039-4f33-b653-7dd5cd0789be",
   "metadata": {},
   "source": [
    "## 1. Loading the Dataset\n",
    "\n",
    "We begin by loading the dataset and inspecting its structure.\n"
   ]
  },
  {
   "cell_type": "code",
   "execution_count": 218,
   "id": "e9f5b0e5-fc00-465b-8a33-20e81c4f7f68",
   "metadata": {},
   "outputs": [
    {
     "data": {
      "text/html": [
       "<div>\n",
       "<style scoped>\n",
       "    .dataframe tbody tr th:only-of-type {\n",
       "        vertical-align: middle;\n",
       "    }\n",
       "\n",
       "    .dataframe tbody tr th {\n",
       "        vertical-align: top;\n",
       "    }\n",
       "\n",
       "    .dataframe thead th {\n",
       "        text-align: right;\n",
       "    }\n",
       "</style>\n",
       "<table border=\"1\" class=\"dataframe\">\n",
       "  <thead>\n",
       "    <tr style=\"text-align: right;\">\n",
       "      <th></th>\n",
       "      <th>area_type</th>\n",
       "      <th>availability</th>\n",
       "      <th>location</th>\n",
       "      <th>size</th>\n",
       "      <th>society</th>\n",
       "      <th>total_sqft</th>\n",
       "      <th>bath</th>\n",
       "      <th>balcony</th>\n",
       "      <th>price</th>\n",
       "    </tr>\n",
       "  </thead>\n",
       "  <tbody>\n",
       "    <tr>\n",
       "      <th>0</th>\n",
       "      <td>Super built-up  Area</td>\n",
       "      <td>19-Dec</td>\n",
       "      <td>Electronic City Phase II</td>\n",
       "      <td>2 BHK</td>\n",
       "      <td>Coomee</td>\n",
       "      <td>1056</td>\n",
       "      <td>2.0</td>\n",
       "      <td>1.0</td>\n",
       "      <td>39.07</td>\n",
       "    </tr>\n",
       "    <tr>\n",
       "      <th>1</th>\n",
       "      <td>Plot  Area</td>\n",
       "      <td>Ready To Move</td>\n",
       "      <td>Chikka Tirupathi</td>\n",
       "      <td>4 Bedroom</td>\n",
       "      <td>Theanmp</td>\n",
       "      <td>2600</td>\n",
       "      <td>5.0</td>\n",
       "      <td>3.0</td>\n",
       "      <td>120.00</td>\n",
       "    </tr>\n",
       "    <tr>\n",
       "      <th>2</th>\n",
       "      <td>Built-up  Area</td>\n",
       "      <td>Ready To Move</td>\n",
       "      <td>Uttarahalli</td>\n",
       "      <td>3 BHK</td>\n",
       "      <td>NaN</td>\n",
       "      <td>1440</td>\n",
       "      <td>2.0</td>\n",
       "      <td>3.0</td>\n",
       "      <td>62.00</td>\n",
       "    </tr>\n",
       "    <tr>\n",
       "      <th>3</th>\n",
       "      <td>Super built-up  Area</td>\n",
       "      <td>Ready To Move</td>\n",
       "      <td>Lingadheeranahalli</td>\n",
       "      <td>3 BHK</td>\n",
       "      <td>Soiewre</td>\n",
       "      <td>1521</td>\n",
       "      <td>3.0</td>\n",
       "      <td>1.0</td>\n",
       "      <td>95.00</td>\n",
       "    </tr>\n",
       "    <tr>\n",
       "      <th>4</th>\n",
       "      <td>Super built-up  Area</td>\n",
       "      <td>Ready To Move</td>\n",
       "      <td>Kothanur</td>\n",
       "      <td>2 BHK</td>\n",
       "      <td>NaN</td>\n",
       "      <td>1200</td>\n",
       "      <td>2.0</td>\n",
       "      <td>1.0</td>\n",
       "      <td>51.00</td>\n",
       "    </tr>\n",
       "  </tbody>\n",
       "</table>\n",
       "</div>"
      ],
      "text/plain": [
       "              area_type   availability                  location       size  \\\n",
       "0  Super built-up  Area         19-Dec  Electronic City Phase II      2 BHK   \n",
       "1            Plot  Area  Ready To Move          Chikka Tirupathi  4 Bedroom   \n",
       "2        Built-up  Area  Ready To Move               Uttarahalli      3 BHK   \n",
       "3  Super built-up  Area  Ready To Move        Lingadheeranahalli      3 BHK   \n",
       "4  Super built-up  Area  Ready To Move                  Kothanur      2 BHK   \n",
       "\n",
       "   society total_sqft  bath  balcony   price  \n",
       "0  Coomee        1056   2.0      1.0   39.07  \n",
       "1  Theanmp       2600   5.0      3.0  120.00  \n",
       "2      NaN       1440   2.0      3.0   62.00  \n",
       "3  Soiewre       1521   3.0      1.0   95.00  \n",
       "4      NaN       1200   2.0      1.0   51.00  "
      ]
     },
     "execution_count": 218,
     "metadata": {},
     "output_type": "execute_result"
    }
   ],
   "source": [
    "bangDF = pd.read_csv(\"../dataset/Bengaluru_House_Data.csv\")\n",
    "bangDF.head(5)"
   ]
  },
  {
   "cell_type": "markdown",
   "id": "02e854b4-af51-45e7-9cfc-fe427c7d631a",
   "metadata": {},
   "source": [
    "## 2. Initial Data Exploration\n",
    "\n",
    "To understand the dataset, we check:\n",
    "- The number of rows and columns\n",
    "- Missing values\n",
    "- Data types of each column\n"
   ]
  },
  {
   "cell_type": "code",
   "execution_count": 167,
   "id": "a73ea526-4a0b-4147-ab54-da1094f813e2",
   "metadata": {},
   "outputs": [
    {
     "name": "stdout",
     "output_type": "stream",
     "text": [
      "<class 'pandas.core.frame.DataFrame'>\n",
      "RangeIndex: 13320 entries, 0 to 13319\n",
      "Data columns (total 9 columns):\n",
      " #   Column        Non-Null Count  Dtype  \n",
      "---  ------        --------------  -----  \n",
      " 0   area_type     13320 non-null  object \n",
      " 1   availability  13320 non-null  object \n",
      " 2   location      13319 non-null  object \n",
      " 3   size          13304 non-null  object \n",
      " 4   society       7818 non-null   object \n",
      " 5   total_sqft    13320 non-null  object \n",
      " 6   bath          13247 non-null  float64\n",
      " 7   balcony       12711 non-null  float64\n",
      " 8   price         13320 non-null  float64\n",
      "dtypes: float64(3), object(6)\n",
      "memory usage: 936.7+ KB\n"
     ]
    }
   ],
   "source": [
    "bangDF.info()"
   ]
  },
  {
   "cell_type": "code",
   "execution_count": 5,
   "id": "fcd810b6-4063-4893-8663-3979a5eb5592",
   "metadata": {},
   "outputs": [
    {
     "data": {
      "text/html": [
       "<div>\n",
       "<style scoped>\n",
       "    .dataframe tbody tr th:only-of-type {\n",
       "        vertical-align: middle;\n",
       "    }\n",
       "\n",
       "    .dataframe tbody tr th {\n",
       "        vertical-align: top;\n",
       "    }\n",
       "\n",
       "    .dataframe thead th {\n",
       "        text-align: right;\n",
       "    }\n",
       "</style>\n",
       "<table border=\"1\" class=\"dataframe\">\n",
       "  <thead>\n",
       "    <tr style=\"text-align: right;\">\n",
       "      <th></th>\n",
       "      <th>bath</th>\n",
       "      <th>balcony</th>\n",
       "      <th>price</th>\n",
       "    </tr>\n",
       "  </thead>\n",
       "  <tbody>\n",
       "    <tr>\n",
       "      <th>count</th>\n",
       "      <td>13247.000000</td>\n",
       "      <td>12711.000000</td>\n",
       "      <td>13320.000000</td>\n",
       "    </tr>\n",
       "    <tr>\n",
       "      <th>mean</th>\n",
       "      <td>2.692610</td>\n",
       "      <td>1.584376</td>\n",
       "      <td>112.565627</td>\n",
       "    </tr>\n",
       "    <tr>\n",
       "      <th>std</th>\n",
       "      <td>1.341458</td>\n",
       "      <td>0.817263</td>\n",
       "      <td>148.971674</td>\n",
       "    </tr>\n",
       "    <tr>\n",
       "      <th>min</th>\n",
       "      <td>1.000000</td>\n",
       "      <td>0.000000</td>\n",
       "      <td>8.000000</td>\n",
       "    </tr>\n",
       "    <tr>\n",
       "      <th>25%</th>\n",
       "      <td>2.000000</td>\n",
       "      <td>1.000000</td>\n",
       "      <td>50.000000</td>\n",
       "    </tr>\n",
       "    <tr>\n",
       "      <th>50%</th>\n",
       "      <td>2.000000</td>\n",
       "      <td>2.000000</td>\n",
       "      <td>72.000000</td>\n",
       "    </tr>\n",
       "    <tr>\n",
       "      <th>75%</th>\n",
       "      <td>3.000000</td>\n",
       "      <td>2.000000</td>\n",
       "      <td>120.000000</td>\n",
       "    </tr>\n",
       "    <tr>\n",
       "      <th>max</th>\n",
       "      <td>40.000000</td>\n",
       "      <td>3.000000</td>\n",
       "      <td>3600.000000</td>\n",
       "    </tr>\n",
       "  </tbody>\n",
       "</table>\n",
       "</div>"
      ],
      "text/plain": [
       "               bath       balcony         price\n",
       "count  13247.000000  12711.000000  13320.000000\n",
       "mean       2.692610      1.584376    112.565627\n",
       "std        1.341458      0.817263    148.971674\n",
       "min        1.000000      0.000000      8.000000\n",
       "25%        2.000000      1.000000     50.000000\n",
       "50%        2.000000      2.000000     72.000000\n",
       "75%        3.000000      2.000000    120.000000\n",
       "max       40.000000      3.000000   3600.000000"
      ]
     },
     "execution_count": 5,
     "metadata": {},
     "output_type": "execute_result"
    }
   ],
   "source": [
    "bangDF.describe()"
   ]
  },
  {
   "cell_type": "code",
   "execution_count": 6,
   "id": "c7d0983c-b64a-4bb5-8df1-58f99c04b232",
   "metadata": {},
   "outputs": [
    {
     "data": {
      "text/plain": [
       "Index(['area_type', 'availability', 'location', 'size', 'society',\n",
       "       'total_sqft', 'bath', 'balcony', 'price'],\n",
       "      dtype='object')"
      ]
     },
     "execution_count": 6,
     "metadata": {},
     "output_type": "execute_result"
    }
   ],
   "source": [
    "bangDF.columns"
   ]
  },
  {
   "cell_type": "markdown",
   "id": "7ec5ce7c-bf2b-47f9-86c2-6542567ffd42",
   "metadata": {},
   "source": [
    "## 3. Data Cleaning\n",
    "\n",
    "To ensure data quality, we perform the following steps:\n",
    "- Identify missing values\n",
    "- Remove duplicates (if any)\n",
    "- Standardize data formats\n",
    "\n",
    "We start by checking for missing values in each column.\n"
   ]
  },
  {
   "cell_type": "code",
   "execution_count": 220,
   "id": "c0754a23-50bc-475e-b263-609814f84631",
   "metadata": {},
   "outputs": [
    {
     "data": {
      "text/plain": [
       "area_type          0\n",
       "availability       0\n",
       "location           1\n",
       "size              16\n",
       "society         5502\n",
       "total_sqft         0\n",
       "bath              73\n",
       "balcony          609\n",
       "price              0\n",
       "dtype: int64"
      ]
     },
     "execution_count": 220,
     "metadata": {},
     "output_type": "execute_result"
    }
   ],
   "source": [
    "bangDF.isnull().sum()"
   ]
  },
  {
   "cell_type": "code",
   "execution_count": 221,
   "id": "078cf28f-5272-4467-a1de-622c40d2400f",
   "metadata": {},
   "outputs": [],
   "source": [
    "# Drop irrelevant columns from the dataset\n",
    "df2 = bangDF.drop([\"area_type\",\"availability\",\"society\"], axis=\"columns\")"
   ]
  },
  {
   "cell_type": "code",
   "execution_count": 222,
   "id": "d56d89d4-4558-4bb0-8537-d3038c9015d5",
   "metadata": {},
   "outputs": [
    {
     "data": {
      "text/html": [
       "<div>\n",
       "<style scoped>\n",
       "    .dataframe tbody tr th:only-of-type {\n",
       "        vertical-align: middle;\n",
       "    }\n",
       "\n",
       "    .dataframe tbody tr th {\n",
       "        vertical-align: top;\n",
       "    }\n",
       "\n",
       "    .dataframe thead th {\n",
       "        text-align: right;\n",
       "    }\n",
       "</style>\n",
       "<table border=\"1\" class=\"dataframe\">\n",
       "  <thead>\n",
       "    <tr style=\"text-align: right;\">\n",
       "      <th></th>\n",
       "      <th>location</th>\n",
       "      <th>size</th>\n",
       "      <th>total_sqft</th>\n",
       "      <th>bath</th>\n",
       "      <th>balcony</th>\n",
       "      <th>price</th>\n",
       "    </tr>\n",
       "  </thead>\n",
       "  <tbody>\n",
       "    <tr>\n",
       "      <th>0</th>\n",
       "      <td>Electronic City Phase II</td>\n",
       "      <td>2 BHK</td>\n",
       "      <td>1056</td>\n",
       "      <td>2.0</td>\n",
       "      <td>1.0</td>\n",
       "      <td>39.07</td>\n",
       "    </tr>\n",
       "    <tr>\n",
       "      <th>1</th>\n",
       "      <td>Chikka Tirupathi</td>\n",
       "      <td>4 Bedroom</td>\n",
       "      <td>2600</td>\n",
       "      <td>5.0</td>\n",
       "      <td>3.0</td>\n",
       "      <td>120.00</td>\n",
       "    </tr>\n",
       "    <tr>\n",
       "      <th>2</th>\n",
       "      <td>Uttarahalli</td>\n",
       "      <td>3 BHK</td>\n",
       "      <td>1440</td>\n",
       "      <td>2.0</td>\n",
       "      <td>3.0</td>\n",
       "      <td>62.00</td>\n",
       "    </tr>\n",
       "    <tr>\n",
       "      <th>3</th>\n",
       "      <td>Lingadheeranahalli</td>\n",
       "      <td>3 BHK</td>\n",
       "      <td>1521</td>\n",
       "      <td>3.0</td>\n",
       "      <td>1.0</td>\n",
       "      <td>95.00</td>\n",
       "    </tr>\n",
       "    <tr>\n",
       "      <th>4</th>\n",
       "      <td>Kothanur</td>\n",
       "      <td>2 BHK</td>\n",
       "      <td>1200</td>\n",
       "      <td>2.0</td>\n",
       "      <td>1.0</td>\n",
       "      <td>51.00</td>\n",
       "    </tr>\n",
       "  </tbody>\n",
       "</table>\n",
       "</div>"
      ],
      "text/plain": [
       "                   location       size total_sqft  bath  balcony   price\n",
       "0  Electronic City Phase II      2 BHK       1056   2.0      1.0   39.07\n",
       "1          Chikka Tirupathi  4 Bedroom       2600   5.0      3.0  120.00\n",
       "2               Uttarahalli      3 BHK       1440   2.0      3.0   62.00\n",
       "3        Lingadheeranahalli      3 BHK       1521   3.0      1.0   95.00\n",
       "4                  Kothanur      2 BHK       1200   2.0      1.0   51.00"
      ]
     },
     "execution_count": 222,
     "metadata": {},
     "output_type": "execute_result"
    }
   ],
   "source": [
    "df2.head()"
   ]
  },
  {
   "cell_type": "code",
   "execution_count": 10,
   "id": "8db775ff-7b83-4cec-9b16-b8505e41e8cd",
   "metadata": {
    "scrolled": true
   },
   "outputs": [
    {
     "data": {
      "text/plain": [
       "location        1\n",
       "size           16\n",
       "total_sqft      0\n",
       "bath           73\n",
       "balcony       609\n",
       "price           0\n",
       "dtype: int64"
      ]
     },
     "execution_count": 10,
     "metadata": {},
     "output_type": "execute_result"
    }
   ],
   "source": [
    "df2.isnull().sum()"
   ]
  },
  {
   "cell_type": "markdown",
   "id": "4c43d345-5429-48f6-acad-762f2e19ac17",
   "metadata": {},
   "source": [
    "### Handling Missing Values\n",
    "\n",
    "Since missing values in key columns can impact analysis and modeling, we remove rows where:\n",
    "- **`location`** is missing (essential for spatial analysis).\n",
    "- **`size`** is missing (affects area-related calculations).\n",
    "- **`bath`** is missing (important for feature engineering).\n",
    "\n",
    "This helps maintain data integrity.\n",
    "\n"
   ]
  },
  {
   "cell_type": "code",
   "execution_count": 223,
   "id": "c4d9c645-6003-479a-9902-a20d85028c0e",
   "metadata": {},
   "outputs": [],
   "source": [
    "# Drop rows with missing values in critical columns: location, size, and bath\n",
    "df3 = df2.dropna(subset = [\"location\", \"size\", \"bath\"])"
   ]
  },
  {
   "cell_type": "code",
   "execution_count": 224,
   "id": "6c0938e2-bd59-4ee5-b0f8-3ad97591f895",
   "metadata": {},
   "outputs": [
    {
     "data": {
      "text/plain": [
       "location        0\n",
       "size            0\n",
       "total_sqft      0\n",
       "bath            0\n",
       "balcony       536\n",
       "price           0\n",
       "dtype: int64"
      ]
     },
     "execution_count": 224,
     "metadata": {},
     "output_type": "execute_result"
    }
   ],
   "source": [
    "df3.isnull().sum()"
   ]
  },
  {
   "cell_type": "code",
   "execution_count": 13,
   "id": "4fbbd22a-c33e-4ec8-922b-88d17d89b6f6",
   "metadata": {},
   "outputs": [
    {
     "data": {
      "text/plain": [
       "array(['2 BHK', '4 Bedroom', '3 BHK', '4 BHK', '6 Bedroom', '3 Bedroom',\n",
       "       '1 BHK', '1 RK', '1 Bedroom', '8 Bedroom', '2 Bedroom',\n",
       "       '7 Bedroom', '5 BHK', '7 BHK', '6 BHK', '5 Bedroom', '11 BHK',\n",
       "       '9 BHK', '9 Bedroom', '27 BHK', '10 Bedroom', '11 Bedroom',\n",
       "       '10 BHK', '19 BHK', '16 BHK', '43 Bedroom', '14 BHK', '8 BHK',\n",
       "       '12 Bedroom', '13 BHK', '18 Bedroom'], dtype=object)"
      ]
     },
     "execution_count": 13,
     "metadata": {},
     "output_type": "execute_result"
    }
   ],
   "source": [
    "df3['size'].unique()"
   ]
  },
  {
   "cell_type": "code",
   "execution_count": 15,
   "id": "7a6b5452-116a-405d-82ac-de6f83c1c140",
   "metadata": {},
   "outputs": [
    {
     "data": {
      "text/plain": [
       "13"
      ]
     },
     "execution_count": 15,
     "metadata": {},
     "output_type": "execute_result"
    }
   ],
   "source": [
    "df3[df3['size'] == '1 RK'].shape[0]"
   ]
  },
  {
   "cell_type": "code",
   "execution_count": 16,
   "id": "6d41bc20-b977-4a2d-badc-4ac354cb8a9b",
   "metadata": {},
   "outputs": [
    {
     "data": {
      "text/plain": [
       "(13246, 6)"
      ]
     },
     "execution_count": 16,
     "metadata": {},
     "output_type": "execute_result"
    }
   ],
   "source": [
    "df3.shape"
   ]
  },
  {
   "cell_type": "code",
   "execution_count": 17,
   "id": "b5060802-246d-43c3-ba79-8b76daa92fec",
   "metadata": {},
   "outputs": [],
   "source": [
    "df4 = df3[df3['size'] != '1 RK']"
   ]
  },
  {
   "cell_type": "code",
   "execution_count": 18,
   "id": "5e316c3f-9993-47ea-8aa2-ef131801d348",
   "metadata": {},
   "outputs": [
    {
     "data": {
      "text/plain": [
       "(13233, 6)"
      ]
     },
     "execution_count": 18,
     "metadata": {},
     "output_type": "execute_result"
    }
   ],
   "source": [
    "df4.shape"
   ]
  },
  {
   "cell_type": "code",
   "execution_count": 225,
   "id": "5e7bbfba-6744-4010-8a01-024e80177995",
   "metadata": {},
   "outputs": [],
   "source": [
    "# Extract the numeric value (number of bedrooms) from the 'size' column\n",
    "df4['bhk'] = df4['size'].apply(lambda x: x.split(' ')[0])"
   ]
  },
  {
   "cell_type": "code",
   "execution_count": 226,
   "id": "7ce2d3a4-f00c-44b1-ba87-9f3480fc1380",
   "metadata": {},
   "outputs": [
    {
     "data": {
      "text/html": [
       "<div>\n",
       "<style scoped>\n",
       "    .dataframe tbody tr th:only-of-type {\n",
       "        vertical-align: middle;\n",
       "    }\n",
       "\n",
       "    .dataframe tbody tr th {\n",
       "        vertical-align: top;\n",
       "    }\n",
       "\n",
       "    .dataframe thead th {\n",
       "        text-align: right;\n",
       "    }\n",
       "</style>\n",
       "<table border=\"1\" class=\"dataframe\">\n",
       "  <thead>\n",
       "    <tr style=\"text-align: right;\">\n",
       "      <th></th>\n",
       "      <th>location</th>\n",
       "      <th>size</th>\n",
       "      <th>total_sqft</th>\n",
       "      <th>bath</th>\n",
       "      <th>balcony</th>\n",
       "      <th>price</th>\n",
       "      <th>bhk</th>\n",
       "    </tr>\n",
       "  </thead>\n",
       "  <tbody>\n",
       "    <tr>\n",
       "      <th>0</th>\n",
       "      <td>Electronic City Phase II</td>\n",
       "      <td>2 BHK</td>\n",
       "      <td>1056</td>\n",
       "      <td>2.0</td>\n",
       "      <td>1.0</td>\n",
       "      <td>39.07</td>\n",
       "      <td>2</td>\n",
       "    </tr>\n",
       "    <tr>\n",
       "      <th>1</th>\n",
       "      <td>Chikka Tirupathi</td>\n",
       "      <td>4 Bedroom</td>\n",
       "      <td>2600</td>\n",
       "      <td>5.0</td>\n",
       "      <td>3.0</td>\n",
       "      <td>120.00</td>\n",
       "      <td>4</td>\n",
       "    </tr>\n",
       "    <tr>\n",
       "      <th>2</th>\n",
       "      <td>Uttarahalli</td>\n",
       "      <td>3 BHK</td>\n",
       "      <td>1440</td>\n",
       "      <td>2.0</td>\n",
       "      <td>3.0</td>\n",
       "      <td>62.00</td>\n",
       "      <td>3</td>\n",
       "    </tr>\n",
       "    <tr>\n",
       "      <th>3</th>\n",
       "      <td>Lingadheeranahalli</td>\n",
       "      <td>3 BHK</td>\n",
       "      <td>1521</td>\n",
       "      <td>3.0</td>\n",
       "      <td>1.0</td>\n",
       "      <td>95.00</td>\n",
       "      <td>3</td>\n",
       "    </tr>\n",
       "    <tr>\n",
       "      <th>4</th>\n",
       "      <td>Kothanur</td>\n",
       "      <td>2 BHK</td>\n",
       "      <td>1200</td>\n",
       "      <td>2.0</td>\n",
       "      <td>1.0</td>\n",
       "      <td>51.00</td>\n",
       "      <td>2</td>\n",
       "    </tr>\n",
       "  </tbody>\n",
       "</table>\n",
       "</div>"
      ],
      "text/plain": [
       "                   location       size total_sqft  bath  balcony   price bhk\n",
       "0  Electronic City Phase II      2 BHK       1056   2.0      1.0   39.07   2\n",
       "1          Chikka Tirupathi  4 Bedroom       2600   5.0      3.0  120.00   4\n",
       "2               Uttarahalli      3 BHK       1440   2.0      3.0   62.00   3\n",
       "3        Lingadheeranahalli      3 BHK       1521   3.0      1.0   95.00   3\n",
       "4                  Kothanur      2 BHK       1200   2.0      1.0   51.00   2"
      ]
     },
     "execution_count": 226,
     "metadata": {},
     "output_type": "execute_result"
    }
   ],
   "source": [
    "df4.head()"
   ]
  },
  {
   "cell_type": "code",
   "execution_count": 228,
   "id": "fcb8fbd8-ac30-467d-81e6-a8a5fe3ee81c",
   "metadata": {},
   "outputs": [],
   "source": [
    "df5 = df4.drop(columns =[\"size\"])"
   ]
  },
  {
   "cell_type": "code",
   "execution_count": 229,
   "id": "383a85ea-21ca-4765-b626-82ce4f8f79b9",
   "metadata": {},
   "outputs": [
    {
     "data": {
      "text/html": [
       "<div>\n",
       "<style scoped>\n",
       "    .dataframe tbody tr th:only-of-type {\n",
       "        vertical-align: middle;\n",
       "    }\n",
       "\n",
       "    .dataframe tbody tr th {\n",
       "        vertical-align: top;\n",
       "    }\n",
       "\n",
       "    .dataframe thead th {\n",
       "        text-align: right;\n",
       "    }\n",
       "</style>\n",
       "<table border=\"1\" class=\"dataframe\">\n",
       "  <thead>\n",
       "    <tr style=\"text-align: right;\">\n",
       "      <th></th>\n",
       "      <th>location</th>\n",
       "      <th>total_sqft</th>\n",
       "      <th>bath</th>\n",
       "      <th>balcony</th>\n",
       "      <th>price</th>\n",
       "      <th>bhk</th>\n",
       "    </tr>\n",
       "  </thead>\n",
       "  <tbody>\n",
       "    <tr>\n",
       "      <th>0</th>\n",
       "      <td>Electronic City Phase II</td>\n",
       "      <td>1056</td>\n",
       "      <td>2.0</td>\n",
       "      <td>1.0</td>\n",
       "      <td>39.07</td>\n",
       "      <td>2</td>\n",
       "    </tr>\n",
       "    <tr>\n",
       "      <th>1</th>\n",
       "      <td>Chikka Tirupathi</td>\n",
       "      <td>2600</td>\n",
       "      <td>5.0</td>\n",
       "      <td>3.0</td>\n",
       "      <td>120.00</td>\n",
       "      <td>4</td>\n",
       "    </tr>\n",
       "    <tr>\n",
       "      <th>2</th>\n",
       "      <td>Uttarahalli</td>\n",
       "      <td>1440</td>\n",
       "      <td>2.0</td>\n",
       "      <td>3.0</td>\n",
       "      <td>62.00</td>\n",
       "      <td>3</td>\n",
       "    </tr>\n",
       "    <tr>\n",
       "      <th>3</th>\n",
       "      <td>Lingadheeranahalli</td>\n",
       "      <td>1521</td>\n",
       "      <td>3.0</td>\n",
       "      <td>1.0</td>\n",
       "      <td>95.00</td>\n",
       "      <td>3</td>\n",
       "    </tr>\n",
       "    <tr>\n",
       "      <th>4</th>\n",
       "      <td>Kothanur</td>\n",
       "      <td>1200</td>\n",
       "      <td>2.0</td>\n",
       "      <td>1.0</td>\n",
       "      <td>51.00</td>\n",
       "      <td>2</td>\n",
       "    </tr>\n",
       "  </tbody>\n",
       "</table>\n",
       "</div>"
      ],
      "text/plain": [
       "                   location total_sqft  bath  balcony   price bhk\n",
       "0  Electronic City Phase II       1056   2.0      1.0   39.07   2\n",
       "1          Chikka Tirupathi       2600   5.0      3.0  120.00   4\n",
       "2               Uttarahalli       1440   2.0      3.0   62.00   3\n",
       "3        Lingadheeranahalli       1521   3.0      1.0   95.00   3\n",
       "4                  Kothanur       1200   2.0      1.0   51.00   2"
      ]
     },
     "execution_count": 229,
     "metadata": {},
     "output_type": "execute_result"
    }
   ],
   "source": [
    "df5.head()"
   ]
  },
  {
   "cell_type": "code",
   "execution_count": 230,
   "id": "7657d742-f59d-415d-9ea9-bc44aa53050c",
   "metadata": {},
   "outputs": [
    {
     "name": "stdout",
     "output_type": "stream",
     "text": [
      "<class 'pandas.core.frame.DataFrame'>\n",
      "Index: 13233 entries, 0 to 13319\n",
      "Data columns (total 6 columns):\n",
      " #   Column      Non-Null Count  Dtype  \n",
      "---  ------      --------------  -----  \n",
      " 0   location    13233 non-null  object \n",
      " 1   total_sqft  13233 non-null  object \n",
      " 2   bath        13233 non-null  float64\n",
      " 3   balcony     12697 non-null  float64\n",
      " 4   price       13233 non-null  float64\n",
      " 5   bhk         13233 non-null  object \n",
      "dtypes: float64(3), object(3)\n",
      "memory usage: 723.7+ KB\n"
     ]
    }
   ],
   "source": [
    "df5.info()"
   ]
  },
  {
   "cell_type": "code",
   "execution_count": 232,
   "id": "2af44179-e806-4b83-9553-a7ecf805f610",
   "metadata": {},
   "outputs": [],
   "source": [
    "# Convert 'bhk' column to integer type for numerical operations\n",
    "df5['bhk'] = df5['bhk'].astype(int)"
   ]
  },
  {
   "cell_type": "code",
   "execution_count": 233,
   "id": "21cb968e-0fa2-4412-9228-93137947adf3",
   "metadata": {},
   "outputs": [
    {
     "data": {
      "text/plain": [
       "location        0\n",
       "total_sqft      0\n",
       "bath            0\n",
       "balcony       536\n",
       "price           0\n",
       "bhk             0\n",
       "dtype: int64"
      ]
     },
     "execution_count": 233,
     "metadata": {},
     "output_type": "execute_result"
    }
   ],
   "source": [
    "df5.isnull().sum()"
   ]
  },
  {
   "cell_type": "code",
   "execution_count": 234,
   "id": "edae2dd8-95d2-4331-bfb0-c863eaba4767",
   "metadata": {},
   "outputs": [
    {
     "data": {
      "text/html": [
       "<div>\n",
       "<style scoped>\n",
       "    .dataframe tbody tr th:only-of-type {\n",
       "        vertical-align: middle;\n",
       "    }\n",
       "\n",
       "    .dataframe tbody tr th {\n",
       "        vertical-align: top;\n",
       "    }\n",
       "\n",
       "    .dataframe thead th {\n",
       "        text-align: right;\n",
       "    }\n",
       "</style>\n",
       "<table border=\"1\" class=\"dataframe\">\n",
       "  <thead>\n",
       "    <tr style=\"text-align: right;\">\n",
       "      <th></th>\n",
       "      <th>bath</th>\n",
       "      <th>balcony</th>\n",
       "      <th>price</th>\n",
       "      <th>bhk</th>\n",
       "    </tr>\n",
       "  </thead>\n",
       "  <tbody>\n",
       "    <tr>\n",
       "      <th>count</th>\n",
       "      <td>13233.000000</td>\n",
       "      <td>12697.000000</td>\n",
       "      <td>13233.000000</td>\n",
       "      <td>13233.000000</td>\n",
       "    </tr>\n",
       "    <tr>\n",
       "      <th>mean</th>\n",
       "      <td>2.694249</td>\n",
       "      <td>1.585493</td>\n",
       "      <td>112.472175</td>\n",
       "      <td>2.803673</td>\n",
       "    </tr>\n",
       "    <tr>\n",
       "      <th>std</th>\n",
       "      <td>1.341115</td>\n",
       "      <td>0.816759</td>\n",
       "      <td>149.125993</td>\n",
       "      <td>1.295162</td>\n",
       "    </tr>\n",
       "    <tr>\n",
       "      <th>min</th>\n",
       "      <td>1.000000</td>\n",
       "      <td>0.000000</td>\n",
       "      <td>8.000000</td>\n",
       "      <td>1.000000</td>\n",
       "    </tr>\n",
       "    <tr>\n",
       "      <th>25%</th>\n",
       "      <td>2.000000</td>\n",
       "      <td>1.000000</td>\n",
       "      <td>50.000000</td>\n",
       "      <td>2.000000</td>\n",
       "    </tr>\n",
       "    <tr>\n",
       "      <th>50%</th>\n",
       "      <td>2.000000</td>\n",
       "      <td>2.000000</td>\n",
       "      <td>72.000000</td>\n",
       "      <td>3.000000</td>\n",
       "    </tr>\n",
       "    <tr>\n",
       "      <th>75%</th>\n",
       "      <td>3.000000</td>\n",
       "      <td>2.000000</td>\n",
       "      <td>120.000000</td>\n",
       "      <td>3.000000</td>\n",
       "    </tr>\n",
       "    <tr>\n",
       "      <th>max</th>\n",
       "      <td>40.000000</td>\n",
       "      <td>3.000000</td>\n",
       "      <td>3600.000000</td>\n",
       "      <td>43.000000</td>\n",
       "    </tr>\n",
       "  </tbody>\n",
       "</table>\n",
       "</div>"
      ],
      "text/plain": [
       "               bath       balcony         price           bhk\n",
       "count  13233.000000  12697.000000  13233.000000  13233.000000\n",
       "mean       2.694249      1.585493    112.472175      2.803673\n",
       "std        1.341115      0.816759    149.125993      1.295162\n",
       "min        1.000000      0.000000      8.000000      1.000000\n",
       "25%        2.000000      1.000000     50.000000      2.000000\n",
       "50%        2.000000      2.000000     72.000000      3.000000\n",
       "75%        3.000000      2.000000    120.000000      3.000000\n",
       "max       40.000000      3.000000   3600.000000     43.000000"
      ]
     },
     "execution_count": 234,
     "metadata": {},
     "output_type": "execute_result"
    }
   ],
   "source": [
    "df5.describe()"
   ]
  },
  {
   "cell_type": "code",
   "execution_count": 235,
   "id": "087a0540-3f60-4088-8803-524371817ce3",
   "metadata": {},
   "outputs": [
    {
     "data": {
      "text/plain": [
       "array(['1056', '2600', '1440', ..., '1133 - 1384', '774', '4689'],\n",
       "      shape=(2063,), dtype=object)"
      ]
     },
     "execution_count": 235,
     "metadata": {},
     "output_type": "execute_result"
    }
   ],
   "source": [
    "# Check unique values in the 'total_sqft' column to identify inconsistencies\n",
    "df5.total_sqft.unique()"
   ]
  },
  {
   "cell_type": "markdown",
   "id": "b0da23f4-2b11-48ce-80c4-fa195d823f00",
   "metadata": {},
   "source": [
    "### Defining a Function to Check Float Conversion\n",
    "\n",
    "The `total_sqft` column contains values in different formats, including:\n",
    "- Numeric values (`1200`, `1500.5`)\n",
    "- Ranges (`\"1200 - 1500\"`)\n",
    "- Non-numeric values\n",
    "\n",
    "To clean the data, we define a function `isfloat(x)` that:\n",
    "- Returns `True` if `x` can be converted to a float\n",
    "- Returns `False` otherwise\n"
   ]
  },
  {
   "cell_type": "code",
   "execution_count": 238,
   "id": "ab4a8b38-a9c1-425e-aade-02ae94eadb94",
   "metadata": {},
   "outputs": [],
   "source": [
    "# Function to check if a value can be converted to a float\n",
    "def isfloat(x):\n",
    "    try:\n",
    "        float(x)  # Attempt to convert to float\n",
    "        return True  # Return True if successful\n",
    "    except:\n",
    "        return False  # Return False if conversion fails"
   ]
  },
  {
   "cell_type": "code",
   "execution_count": 239,
   "id": "c05113ab-d1c2-4bdd-bd88-ecd4f5edab56",
   "metadata": {},
   "outputs": [
    {
     "data": {
      "text/html": [
       "<div>\n",
       "<style scoped>\n",
       "    .dataframe tbody tr th:only-of-type {\n",
       "        vertical-align: middle;\n",
       "    }\n",
       "\n",
       "    .dataframe tbody tr th {\n",
       "        vertical-align: top;\n",
       "    }\n",
       "\n",
       "    .dataframe thead th {\n",
       "        text-align: right;\n",
       "    }\n",
       "</style>\n",
       "<table border=\"1\" class=\"dataframe\">\n",
       "  <thead>\n",
       "    <tr style=\"text-align: right;\">\n",
       "      <th></th>\n",
       "      <th>location</th>\n",
       "      <th>total_sqft</th>\n",
       "      <th>bath</th>\n",
       "      <th>balcony</th>\n",
       "      <th>price</th>\n",
       "      <th>bhk</th>\n",
       "    </tr>\n",
       "  </thead>\n",
       "  <tbody>\n",
       "    <tr>\n",
       "      <th>30</th>\n",
       "      <td>Yelahanka</td>\n",
       "      <td>2100 - 2850</td>\n",
       "      <td>4.0</td>\n",
       "      <td>0.0</td>\n",
       "      <td>186.000</td>\n",
       "      <td>4</td>\n",
       "    </tr>\n",
       "    <tr>\n",
       "      <th>122</th>\n",
       "      <td>Hebbal</td>\n",
       "      <td>3067 - 8156</td>\n",
       "      <td>4.0</td>\n",
       "      <td>0.0</td>\n",
       "      <td>477.000</td>\n",
       "      <td>4</td>\n",
       "    </tr>\n",
       "    <tr>\n",
       "      <th>137</th>\n",
       "      <td>8th Phase JP Nagar</td>\n",
       "      <td>1042 - 1105</td>\n",
       "      <td>2.0</td>\n",
       "      <td>0.0</td>\n",
       "      <td>54.005</td>\n",
       "      <td>2</td>\n",
       "    </tr>\n",
       "    <tr>\n",
       "      <th>165</th>\n",
       "      <td>Sarjapur</td>\n",
       "      <td>1145 - 1340</td>\n",
       "      <td>2.0</td>\n",
       "      <td>0.0</td>\n",
       "      <td>43.490</td>\n",
       "      <td>2</td>\n",
       "    </tr>\n",
       "    <tr>\n",
       "      <th>188</th>\n",
       "      <td>KR Puram</td>\n",
       "      <td>1015 - 1540</td>\n",
       "      <td>2.0</td>\n",
       "      <td>0.0</td>\n",
       "      <td>56.800</td>\n",
       "      <td>2</td>\n",
       "    </tr>\n",
       "    <tr>\n",
       "      <th>410</th>\n",
       "      <td>Kengeri</td>\n",
       "      <td>34.46Sq. Meter</td>\n",
       "      <td>1.0</td>\n",
       "      <td>0.0</td>\n",
       "      <td>18.500</td>\n",
       "      <td>1</td>\n",
       "    </tr>\n",
       "    <tr>\n",
       "      <th>549</th>\n",
       "      <td>Hennur Road</td>\n",
       "      <td>1195 - 1440</td>\n",
       "      <td>2.0</td>\n",
       "      <td>0.0</td>\n",
       "      <td>63.770</td>\n",
       "      <td>2</td>\n",
       "    </tr>\n",
       "    <tr>\n",
       "      <th>648</th>\n",
       "      <td>Arekere</td>\n",
       "      <td>4125Perch</td>\n",
       "      <td>9.0</td>\n",
       "      <td>NaN</td>\n",
       "      <td>265.000</td>\n",
       "      <td>9</td>\n",
       "    </tr>\n",
       "    <tr>\n",
       "      <th>661</th>\n",
       "      <td>Yelahanka</td>\n",
       "      <td>1120 - 1145</td>\n",
       "      <td>2.0</td>\n",
       "      <td>0.0</td>\n",
       "      <td>48.130</td>\n",
       "      <td>2</td>\n",
       "    </tr>\n",
       "    <tr>\n",
       "      <th>672</th>\n",
       "      <td>Bettahalsoor</td>\n",
       "      <td>3090 - 5002</td>\n",
       "      <td>4.0</td>\n",
       "      <td>0.0</td>\n",
       "      <td>445.000</td>\n",
       "      <td>4</td>\n",
       "    </tr>\n",
       "  </tbody>\n",
       "</table>\n",
       "</div>"
      ],
      "text/plain": [
       "               location      total_sqft  bath  balcony    price  bhk\n",
       "30            Yelahanka     2100 - 2850   4.0      0.0  186.000    4\n",
       "122              Hebbal     3067 - 8156   4.0      0.0  477.000    4\n",
       "137  8th Phase JP Nagar     1042 - 1105   2.0      0.0   54.005    2\n",
       "165            Sarjapur     1145 - 1340   2.0      0.0   43.490    2\n",
       "188            KR Puram     1015 - 1540   2.0      0.0   56.800    2\n",
       "410             Kengeri  34.46Sq. Meter   1.0      0.0   18.500    1\n",
       "549         Hennur Road     1195 - 1440   2.0      0.0   63.770    2\n",
       "648             Arekere       4125Perch   9.0      NaN  265.000    9\n",
       "661           Yelahanka     1120 - 1145   2.0      0.0   48.130    2\n",
       "672        Bettahalsoor     3090 - 5002   4.0      0.0  445.000    4"
      ]
     },
     "execution_count": 239,
     "metadata": {},
     "output_type": "execute_result"
    }
   ],
   "source": [
    "df5[~df5['total_sqft'].apply(isfloat)].head(10)"
   ]
  },
  {
   "cell_type": "markdown",
   "id": "fff3577a-b9d3-4147-9a9e-3ff6bb956135",
   "metadata": {},
   "source": [
    "### Handling Ranges in `total_sqft`\n",
    "\n",
    "The `total_sqft` column contains some values in range format, e.g., `\"1200 - 1500\"`.  \n",
    "To standardize these:\n",
    "- If the value is a range (`\"min - max\"`), we take the **average**:  \n",
    "  \\[\n",
    "  \\frac{\\text{min} + \\text{max}}{2}\n",
    "  \\]\n",
    "- If it's a single number, we convert it to `float`.\n",
    "- If conversion fails, we return `None` (for invalid values).\n"
   ]
  },
  {
   "cell_type": "code",
   "execution_count": 243,
   "id": "b6302052-47c8-4d46-a10d-1ee271da0e4e",
   "metadata": {},
   "outputs": [],
   "source": [
    "# Function to convert range values to their average or keep as float\n",
    "def convertRangeToFloat(x):\n",
    "    tokens = x.split('-')  # Split the value by '-'\n",
    "    \n",
    "    # If it's a range, take the average of min and max\n",
    "    if len(tokens) == 2:\n",
    "        return (float(tokens[0]) + float(tokens[1])) / 2  \n",
    "    \n",
    "    # Try converting to float if it's a single number\n",
    "    try:\n",
    "        return float(x)\n",
    "    except:\n",
    "        return None  # Return None for invalid values"
   ]
  },
  {
   "cell_type": "code",
   "execution_count": 244,
   "id": "80eccca4-d9be-44ca-9f34-055f6b2894be",
   "metadata": {},
   "outputs": [
    {
     "data": {
      "text/plain": [
       "(13233, 6)"
      ]
     },
     "execution_count": 244,
     "metadata": {},
     "output_type": "execute_result"
    }
   ],
   "source": [
    "df5.shape"
   ]
  },
  {
   "cell_type": "code",
   "execution_count": 246,
   "id": "bb9ef7f1-d9eb-44ed-9641-2a4bc37b64c4",
   "metadata": {},
   "outputs": [],
   "source": [
    "df6 =df5.copy()\n",
    "\n",
    "# Apply the function to convert 'total_sqft' values into numerical format\n",
    "df6['total_sqft']  = df6['total_sqft'].apply(convertRangeToFloat)"
   ]
  },
  {
   "cell_type": "code",
   "execution_count": 247,
   "id": "7291a996-a3a7-4c36-aa5d-e1f21abc080f",
   "metadata": {},
   "outputs": [
    {
     "data": {
      "text/plain": [
       "location        0\n",
       "total_sqft     46\n",
       "bath            0\n",
       "balcony       536\n",
       "price           0\n",
       "bhk             0\n",
       "dtype: int64"
      ]
     },
     "execution_count": 247,
     "metadata": {},
     "output_type": "execute_result"
    }
   ],
   "source": [
    "df6.isnull().sum()"
   ]
  },
  {
   "cell_type": "code",
   "execution_count": 248,
   "id": "ac8091ba-77a1-4f5e-be52-2f0fbbe5c5c3",
   "metadata": {},
   "outputs": [],
   "source": [
    "df7 = df6.dropna(subset=['total_sqft'])"
   ]
  },
  {
   "cell_type": "code",
   "execution_count": 249,
   "id": "7b824fad-7abd-4270-bd9f-947d8adc4376",
   "metadata": {},
   "outputs": [
    {
     "data": {
      "text/plain": [
       "(13187, 6)"
      ]
     },
     "execution_count": 249,
     "metadata": {},
     "output_type": "execute_result"
    }
   ],
   "source": [
    "df7.shape"
   ]
  },
  {
   "cell_type": "code",
   "execution_count": 250,
   "id": "f01ea513-ae61-4581-905c-54d7f3274650",
   "metadata": {},
   "outputs": [
    {
     "data": {
      "text/plain": [
       "location        0\n",
       "total_sqft      0\n",
       "bath            0\n",
       "balcony       532\n",
       "price           0\n",
       "bhk             0\n",
       "dtype: int64"
      ]
     },
     "execution_count": 250,
     "metadata": {},
     "output_type": "execute_result"
    }
   ],
   "source": [
    "df7.isnull().sum()"
   ]
  },
  {
   "cell_type": "markdown",
   "id": "5b95c51f-2817-4324-82c8-02098dcdfc3d",
   "metadata": {},
   "source": [
    "### Correlation Matrix Heatmap\n",
    "\n",
    "To understand the relationships between numerical features, we:\n",
    "- Compute the correlation matrix for numerical variables.\n",
    "- Visualize correlations using a heatmap.\n",
    "\n",
    "This helps identify:\n",
    "- Strong positive or negative correlations.\n",
    "- Features that may be redundant or important for the model."
   ]
  },
  {
   "cell_type": "code",
   "execution_count": 253,
   "id": "7e201be4-c13a-4d83-b623-373bdaedbe28",
   "metadata": {},
   "outputs": [
    {
     "data": {
      "text/plain": [
       "Text(0.5, 1.0, 'Correlation Matrix Heatmap')"
      ]
     },
     "execution_count": 253,
     "metadata": {},
     "output_type": "execute_result"
    },
    {
     "data": {
      "image/png": "[encoded data removed]",
      "text/plain": [
       "<Figure size 1000x600 with 2 Axes>"
      ]
     },
     "metadata": {},
     "output_type": "display_data"
    }
   ],
   "source": [
    "df5_no_location = df7.drop(columns = 'location')  # Drop 'location' as it's categorical\n",
    "\n",
    "# Compute the correlation matrix for numerical features\n",
    "corr_matrix = df5_no_location.corr()\n",
    "plt.figure(figsize = (10,6))\n",
    "sns.heatmap(corr_matrix, annot=True, fmt=\".2f\", cmap=\"coolwarm\", linewidths=0.5)\n",
    "plt.title(\"Correlation Matrix Heatmap\")"
   ]
  },
  {
   "cell_type": "code",
   "execution_count": 254,
   "id": "2b4bf1ea-d415-4203-a93a-5e0c35478f35",
   "metadata": {},
   "outputs": [],
   "source": [
    "# Drop the 'balcony' column as it has no correlation with price\n",
    "df7 = df7.drop(columns = 'balcony')"
   ]
  },
  {
   "cell_type": "markdown",
   "id": "f24c4c0b-e5e5-4d38-97aa-d790e1e89b83",
   "metadata": {},
   "source": [
    "## 4. Feature Engineering\n",
    "\n",
    "In this section, we create new features to enhance our model's predictive power.  \n",
    "Feature engineering helps in:\n",
    "- Creating meaningful representations of existing data.\n",
    "- Standardizing values for better comparisons.\n",
    "- Improving model performance by capturing useful trends."
   ]
  },
  {
   "cell_type": "markdown",
   "id": "375412f5-c571-4560-8025-fb74d733d314",
   "metadata": {},
   "source": [
    "### Creating `price_per_sq_ft` Feature\n",
    "\n",
    "To standardize property prices, we calculate the **price per square foot** using:\n",
    "\\[\n",
    "\\text{price per sq. ft} = \\frac{\\text{price} \\times 100000}{\\text{total_sqft}}\n",
    "\\]\n",
    "- Prices in the dataset are given in **lakhs**, so we multiply by `100000` to convert to rupees.\n",
    "- This feature helps in comparing properties of different sizes on a common scale.\n"
   ]
  },
  {
   "cell_type": "code",
   "execution_count": 256,
   "id": "af568051-9be2-4ef0-bbb8-c7fa492e5f26",
   "metadata": {},
   "outputs": [],
   "source": [
    "df8= df7.copy()\n",
    "df8['price_per_sq_ft'] = df8['price']*100000/ df8['total_sqft']"
   ]
  },
  {
   "cell_type": "code",
   "execution_count": 257,
   "id": "0bb4d923-b675-43e0-9392-e3633630d59d",
   "metadata": {},
   "outputs": [
    {
     "data": {
      "text/html": [
       "<div>\n",
       "<style scoped>\n",
       "    .dataframe tbody tr th:only-of-type {\n",
       "        vertical-align: middle;\n",
       "    }\n",
       "\n",
       "    .dataframe tbody tr th {\n",
       "        vertical-align: top;\n",
       "    }\n",
       "\n",
       "    .dataframe thead th {\n",
       "        text-align: right;\n",
       "    }\n",
       "</style>\n",
       "<table border=\"1\" class=\"dataframe\">\n",
       "  <thead>\n",
       "    <tr style=\"text-align: right;\">\n",
       "      <th></th>\n",
       "      <th>location</th>\n",
       "      <th>total_sqft</th>\n",
       "      <th>bath</th>\n",
       "      <th>price</th>\n",
       "      <th>bhk</th>\n",
       "      <th>price_per_sq_ft</th>\n",
       "    </tr>\n",
       "  </thead>\n",
       "  <tbody>\n",
       "    <tr>\n",
       "      <th>0</th>\n",
       "      <td>Electronic City Phase II</td>\n",
       "      <td>1056.0</td>\n",
       "      <td>2.0</td>\n",
       "      <td>39.07</td>\n",
       "      <td>2</td>\n",
       "      <td>3699.810606</td>\n",
       "    </tr>\n",
       "    <tr>\n",
       "      <th>1</th>\n",
       "      <td>Chikka Tirupathi</td>\n",
       "      <td>2600.0</td>\n",
       "      <td>5.0</td>\n",
       "      <td>120.00</td>\n",
       "      <td>4</td>\n",
       "      <td>4615.384615</td>\n",
       "    </tr>\n",
       "    <tr>\n",
       "      <th>2</th>\n",
       "      <td>Uttarahalli</td>\n",
       "      <td>1440.0</td>\n",
       "      <td>2.0</td>\n",
       "      <td>62.00</td>\n",
       "      <td>3</td>\n",
       "      <td>4305.555556</td>\n",
       "    </tr>\n",
       "    <tr>\n",
       "      <th>3</th>\n",
       "      <td>Lingadheeranahalli</td>\n",
       "      <td>1521.0</td>\n",
       "      <td>3.0</td>\n",
       "      <td>95.00</td>\n",
       "      <td>3</td>\n",
       "      <td>6245.890861</td>\n",
       "    </tr>\n",
       "    <tr>\n",
       "      <th>4</th>\n",
       "      <td>Kothanur</td>\n",
       "      <td>1200.0</td>\n",
       "      <td>2.0</td>\n",
       "      <td>51.00</td>\n",
       "      <td>2</td>\n",
       "      <td>4250.000000</td>\n",
       "    </tr>\n",
       "  </tbody>\n",
       "</table>\n",
       "</div>"
      ],
      "text/plain": [
       "                   location  total_sqft  bath   price  bhk  price_per_sq_ft\n",
       "0  Electronic City Phase II      1056.0   2.0   39.07    2      3699.810606\n",
       "1          Chikka Tirupathi      2600.0   5.0  120.00    4      4615.384615\n",
       "2               Uttarahalli      1440.0   2.0   62.00    3      4305.555556\n",
       "3        Lingadheeranahalli      1521.0   3.0   95.00    3      6245.890861\n",
       "4                  Kothanur      1200.0   2.0   51.00    2      4250.000000"
      ]
     },
     "execution_count": 257,
     "metadata": {},
     "output_type": "execute_result"
    }
   ],
   "source": [
    "df8.head(5)"
   ]
  },
  {
   "cell_type": "code",
   "execution_count": 183,
   "id": "77a537d8-5f6c-4765-81c3-a0f43bda79c7",
   "metadata": {},
   "outputs": [
    {
     "data": {
      "text/plain": [
       "1290"
      ]
     },
     "execution_count": 183,
     "metadata": {},
     "output_type": "execute_result"
    }
   ],
   "source": [
    "len(df8.location.unique())"
   ]
  },
  {
   "cell_type": "code",
   "execution_count": 258,
   "id": "b6ff4e5c-28c4-4464-9658-2b6c684eb2d7",
   "metadata": {},
   "outputs": [
    {
     "data": {
      "text/plain": [
       "location\n",
       "Whitefield                                        532\n",
       "Sarjapur  Road                                    392\n",
       "Electronic City                                   302\n",
       "Kanakpura Road                                    264\n",
       "Thanisandra                                       232\n",
       "                                                 ... \n",
       "4th Block HBR Layout                                1\n",
       "5th block Koramangala                               1\n",
       "6th Block Jayanagar                                 1\n",
       "6th Block Rajaji Nagar                              1\n",
       "6th block banashankari 3rd stage, 100 feet ORR      1\n",
       "Name: location, Length: 1287, dtype: int64"
      ]
     },
     "execution_count": 258,
     "metadata": {},
     "output_type": "execute_result"
    }
   ],
   "source": [
    "# Remove leading and trailing spaces from 'location' values\n",
    "df8['location'] = df8['location'].apply(lambda x: x.strip())\n",
    "\n",
    "# Count occurrences of each location and sort in descending order\n",
    "location_stats = df8.groupby('location')['location'].agg('count').sort_values(ascending=False)\n",
    "\n",
    "# Display location distribution\n",
    "location_stats"
   ]
  },
  {
   "cell_type": "code",
   "execution_count": 185,
   "id": "ba1562fa-2c91-4592-a038-b376a574bab6",
   "metadata": {},
   "outputs": [
    {
     "data": {
      "text/plain": [
       "1047"
      ]
     },
     "execution_count": 185,
     "metadata": {},
     "output_type": "execute_result"
    }
   ],
   "source": [
    "len(location_stats[location_stats <= 10])"
   ]
  },
  {
   "cell_type": "code",
   "execution_count": 259,
   "id": "c0e50b8d-9875-487d-8022-b07675a2908b",
   "metadata": {},
   "outputs": [],
   "source": [
    "# Filtering locations that have 10 or fewer occurrences\n",
    "location_stats_less_than_10 = location_stats[location_stats <= 10]"
   ]
  },
  {
   "cell_type": "code",
   "execution_count": 187,
   "id": "6246d756-bfbb-4da4-bd6b-91941581f2f2",
   "metadata": {},
   "outputs": [
    {
     "data": {
      "text/plain": [
       "1287"
      ]
     },
     "execution_count": 187,
     "metadata": {},
     "output_type": "execute_result"
    }
   ],
   "source": [
    "len(df8.location.unique())"
   ]
  },
  {
   "cell_type": "markdown",
   "id": "35cfecda-fb2d-4943-a1e8-8b7e5561915c",
   "metadata": {},
   "source": [
    "### Grouping Less Frequent Locations into 'Other' (Dimensionality Reduction)\n",
    "To simplify the dataset and reduce dimensionality, locations that appear 10 times or fewer are replaced with the label `'other'`. \n",
    "This helps:\n",
    "- Reduce noise in the dataset.\n",
    "- Improve generalization for machine learning models.\n",
    "- Prevent overfitting caused by too many rare location categories.\n"
   ]
  },
  {
   "cell_type": "code",
   "execution_count": 260,
   "id": "0742d0a2-5549-41f4-8daa-9fec8350e274",
   "metadata": {},
   "outputs": [],
   "source": [
    "# Replacing locations with 10 or fewer occurrences with 'other' \n",
    "df8.location = df8.location.apply(lambda x: 'other' if x in location_stats_less_than_10 else x)"
   ]
  },
  {
   "cell_type": "code",
   "execution_count": 189,
   "id": "3eb753d9-276b-4cef-93c6-eb7e81eced66",
   "metadata": {},
   "outputs": [
    {
     "data": {
      "text/plain": [
       "241"
      ]
     },
     "execution_count": 189,
     "metadata": {},
     "output_type": "execute_result"
    }
   ],
   "source": [
    "len(df8.location.unique())"
   ]
  },
  {
   "cell_type": "code",
   "execution_count": 190,
   "id": "4a020028-1181-4b82-9502-395bb551648f",
   "metadata": {},
   "outputs": [
    {
     "data": {
      "text/html": [
       "<div>\n",
       "<style scoped>\n",
       "    .dataframe tbody tr th:only-of-type {\n",
       "        vertical-align: middle;\n",
       "    }\n",
       "\n",
       "    .dataframe tbody tr th {\n",
       "        vertical-align: top;\n",
       "    }\n",
       "\n",
       "    .dataframe thead th {\n",
       "        text-align: right;\n",
       "    }\n",
       "</style>\n",
       "<table border=\"1\" class=\"dataframe\">\n",
       "  <thead>\n",
       "    <tr style=\"text-align: right;\">\n",
       "      <th></th>\n",
       "      <th>location</th>\n",
       "      <th>total_sqft</th>\n",
       "      <th>bath</th>\n",
       "      <th>balcony</th>\n",
       "      <th>price</th>\n",
       "      <th>bhk</th>\n",
       "      <th>price_per_sq_ft</th>\n",
       "    </tr>\n",
       "  </thead>\n",
       "  <tbody>\n",
       "    <tr>\n",
       "      <th>0</th>\n",
       "      <td>Electronic City Phase II</td>\n",
       "      <td>1056.0</td>\n",
       "      <td>2.0</td>\n",
       "      <td>1.0</td>\n",
       "      <td>39.07</td>\n",
       "      <td>2</td>\n",
       "      <td>3699.810606</td>\n",
       "    </tr>\n",
       "    <tr>\n",
       "      <th>1</th>\n",
       "      <td>Chikka Tirupathi</td>\n",
       "      <td>2600.0</td>\n",
       "      <td>5.0</td>\n",
       "      <td>3.0</td>\n",
       "      <td>120.00</td>\n",
       "      <td>4</td>\n",
       "      <td>4615.384615</td>\n",
       "    </tr>\n",
       "    <tr>\n",
       "      <th>2</th>\n",
       "      <td>Uttarahalli</td>\n",
       "      <td>1440.0</td>\n",
       "      <td>2.0</td>\n",
       "      <td>3.0</td>\n",
       "      <td>62.00</td>\n",
       "      <td>3</td>\n",
       "      <td>4305.555556</td>\n",
       "    </tr>\n",
       "    <tr>\n",
       "      <th>3</th>\n",
       "      <td>Lingadheeranahalli</td>\n",
       "      <td>1521.0</td>\n",
       "      <td>3.0</td>\n",
       "      <td>1.0</td>\n",
       "      <td>95.00</td>\n",
       "      <td>3</td>\n",
       "      <td>6245.890861</td>\n",
       "    </tr>\n",
       "    <tr>\n",
       "      <th>4</th>\n",
       "      <td>Kothanur</td>\n",
       "      <td>1200.0</td>\n",
       "      <td>2.0</td>\n",
       "      <td>1.0</td>\n",
       "      <td>51.00</td>\n",
       "      <td>2</td>\n",
       "      <td>4250.000000</td>\n",
       "    </tr>\n",
       "    <tr>\n",
       "      <th>5</th>\n",
       "      <td>Whitefield</td>\n",
       "      <td>1170.0</td>\n",
       "      <td>2.0</td>\n",
       "      <td>1.0</td>\n",
       "      <td>38.00</td>\n",
       "      <td>2</td>\n",
       "      <td>3247.863248</td>\n",
       "    </tr>\n",
       "    <tr>\n",
       "      <th>6</th>\n",
       "      <td>Old Airport Road</td>\n",
       "      <td>2732.0</td>\n",
       "      <td>4.0</td>\n",
       "      <td>NaN</td>\n",
       "      <td>204.00</td>\n",
       "      <td>4</td>\n",
       "      <td>7467.057101</td>\n",
       "    </tr>\n",
       "    <tr>\n",
       "      <th>7</th>\n",
       "      <td>Rajaji Nagar</td>\n",
       "      <td>3300.0</td>\n",
       "      <td>4.0</td>\n",
       "      <td>NaN</td>\n",
       "      <td>600.00</td>\n",
       "      <td>4</td>\n",
       "      <td>18181.818182</td>\n",
       "    </tr>\n",
       "    <tr>\n",
       "      <th>8</th>\n",
       "      <td>Marathahalli</td>\n",
       "      <td>1310.0</td>\n",
       "      <td>3.0</td>\n",
       "      <td>1.0</td>\n",
       "      <td>63.25</td>\n",
       "      <td>3</td>\n",
       "      <td>4828.244275</td>\n",
       "    </tr>\n",
       "    <tr>\n",
       "      <th>9</th>\n",
       "      <td>other</td>\n",
       "      <td>1020.0</td>\n",
       "      <td>6.0</td>\n",
       "      <td>NaN</td>\n",
       "      <td>370.00</td>\n",
       "      <td>6</td>\n",
       "      <td>36274.509804</td>\n",
       "    </tr>\n",
       "  </tbody>\n",
       "</table>\n",
       "</div>"
      ],
      "text/plain": [
       "                   location  total_sqft  bath  balcony   price  bhk  \\\n",
       "0  Electronic City Phase II      1056.0   2.0      1.0   39.07    2   \n",
       "1          Chikka Tirupathi      2600.0   5.0      3.0  120.00    4   \n",
       "2               Uttarahalli      1440.0   2.0      3.0   62.00    3   \n",
       "3        Lingadheeranahalli      1521.0   3.0      1.0   95.00    3   \n",
       "4                  Kothanur      1200.0   2.0      1.0   51.00    2   \n",
       "5                Whitefield      1170.0   2.0      1.0   38.00    2   \n",
       "6          Old Airport Road      2732.0   4.0      NaN  204.00    4   \n",
       "7              Rajaji Nagar      3300.0   4.0      NaN  600.00    4   \n",
       "8              Marathahalli      1310.0   3.0      1.0   63.25    3   \n",
       "9                     other      1020.0   6.0      NaN  370.00    6   \n",
       "\n",
       "   price_per_sq_ft  \n",
       "0      3699.810606  \n",
       "1      4615.384615  \n",
       "2      4305.555556  \n",
       "3      6245.890861  \n",
       "4      4250.000000  \n",
       "5      3247.863248  \n",
       "6      7467.057101  \n",
       "7     18181.818182  \n",
       "8      4828.244275  \n",
       "9     36274.509804  "
      ]
     },
     "execution_count": 190,
     "metadata": {},
     "output_type": "execute_result"
    }
   ],
   "source": [
    "df8.head(10)"
   ]
  },
  {
   "cell_type": "code",
   "execution_count": 261,
   "id": "ce48b842-2e63-4ad9-ac05-8dd2e5c34675",
   "metadata": {},
   "outputs": [
    {
     "data": {
      "text/html": [
       "<div>\n",
       "<style scoped>\n",
       "    .dataframe tbody tr th:only-of-type {\n",
       "        vertical-align: middle;\n",
       "    }\n",
       "\n",
       "    .dataframe tbody tr th {\n",
       "        vertical-align: top;\n",
       "    }\n",
       "\n",
       "    .dataframe thead th {\n",
       "        text-align: right;\n",
       "    }\n",
       "</style>\n",
       "<table border=\"1\" class=\"dataframe\">\n",
       "  <thead>\n",
       "    <tr style=\"text-align: right;\">\n",
       "      <th></th>\n",
       "      <th>location</th>\n",
       "      <th>total_sqft</th>\n",
       "      <th>bath</th>\n",
       "      <th>price</th>\n",
       "      <th>bhk</th>\n",
       "      <th>price_per_sq_ft</th>\n",
       "    </tr>\n",
       "  </thead>\n",
       "  <tbody>\n",
       "    <tr>\n",
       "      <th>9</th>\n",
       "      <td>other</td>\n",
       "      <td>1020.0</td>\n",
       "      <td>6.0</td>\n",
       "      <td>370.0</td>\n",
       "      <td>6</td>\n",
       "      <td>36274.509804</td>\n",
       "    </tr>\n",
       "    <tr>\n",
       "      <th>45</th>\n",
       "      <td>HSR Layout</td>\n",
       "      <td>600.0</td>\n",
       "      <td>9.0</td>\n",
       "      <td>200.0</td>\n",
       "      <td>8</td>\n",
       "      <td>33333.333333</td>\n",
       "    </tr>\n",
       "    <tr>\n",
       "      <th>58</th>\n",
       "      <td>Murugeshpalya</td>\n",
       "      <td>1407.0</td>\n",
       "      <td>4.0</td>\n",
       "      <td>150.0</td>\n",
       "      <td>6</td>\n",
       "      <td>10660.980810</td>\n",
       "    </tr>\n",
       "    <tr>\n",
       "      <th>68</th>\n",
       "      <td>Devarachikkanahalli</td>\n",
       "      <td>1350.0</td>\n",
       "      <td>7.0</td>\n",
       "      <td>85.0</td>\n",
       "      <td>8</td>\n",
       "      <td>6296.296296</td>\n",
       "    </tr>\n",
       "    <tr>\n",
       "      <th>70</th>\n",
       "      <td>other</td>\n",
       "      <td>500.0</td>\n",
       "      <td>3.0</td>\n",
       "      <td>100.0</td>\n",
       "      <td>3</td>\n",
       "      <td>20000.000000</td>\n",
       "    </tr>\n",
       "    <tr>\n",
       "      <th>...</th>\n",
       "      <td>...</td>\n",
       "      <td>...</td>\n",
       "      <td>...</td>\n",
       "      <td>...</td>\n",
       "      <td>...</td>\n",
       "      <td>...</td>\n",
       "    </tr>\n",
       "    <tr>\n",
       "      <th>13277</th>\n",
       "      <td>other</td>\n",
       "      <td>1400.0</td>\n",
       "      <td>7.0</td>\n",
       "      <td>218.0</td>\n",
       "      <td>7</td>\n",
       "      <td>15571.428571</td>\n",
       "    </tr>\n",
       "    <tr>\n",
       "      <th>13279</th>\n",
       "      <td>other</td>\n",
       "      <td>1200.0</td>\n",
       "      <td>5.0</td>\n",
       "      <td>130.0</td>\n",
       "      <td>6</td>\n",
       "      <td>10833.333333</td>\n",
       "    </tr>\n",
       "    <tr>\n",
       "      <th>13281</th>\n",
       "      <td>Margondanahalli</td>\n",
       "      <td>1375.0</td>\n",
       "      <td>5.0</td>\n",
       "      <td>125.0</td>\n",
       "      <td>5</td>\n",
       "      <td>9090.909091</td>\n",
       "    </tr>\n",
       "    <tr>\n",
       "      <th>13303</th>\n",
       "      <td>Vidyaranyapura</td>\n",
       "      <td>774.0</td>\n",
       "      <td>5.0</td>\n",
       "      <td>70.0</td>\n",
       "      <td>5</td>\n",
       "      <td>9043.927649</td>\n",
       "    </tr>\n",
       "    <tr>\n",
       "      <th>13311</th>\n",
       "      <td>Ramamurthy Nagar</td>\n",
       "      <td>1500.0</td>\n",
       "      <td>9.0</td>\n",
       "      <td>250.0</td>\n",
       "      <td>7</td>\n",
       "      <td>16666.666667</td>\n",
       "    </tr>\n",
       "  </tbody>\n",
       "</table>\n",
       "<p>743 rows × 6 columns</p>\n",
       "</div>"
      ],
      "text/plain": [
       "                  location  total_sqft  bath  price  bhk  price_per_sq_ft\n",
       "9                    other      1020.0   6.0  370.0    6     36274.509804\n",
       "45              HSR Layout       600.0   9.0  200.0    8     33333.333333\n",
       "58           Murugeshpalya      1407.0   4.0  150.0    6     10660.980810\n",
       "68     Devarachikkanahalli      1350.0   7.0   85.0    8      6296.296296\n",
       "70                   other       500.0   3.0  100.0    3     20000.000000\n",
       "...                    ...         ...   ...    ...  ...              ...\n",
       "13277                other      1400.0   7.0  218.0    7     15571.428571\n",
       "13279                other      1200.0   5.0  130.0    6     10833.333333\n",
       "13281      Margondanahalli      1375.0   5.0  125.0    5      9090.909091\n",
       "13303       Vidyaranyapura       774.0   5.0   70.0    5      9043.927649\n",
       "13311     Ramamurthy Nagar      1500.0   9.0  250.0    7     16666.666667\n",
       "\n",
       "[743 rows x 6 columns]"
      ]
     },
     "execution_count": 261,
     "metadata": {},
     "output_type": "execute_result"
    }
   ],
   "source": [
    "# Filtering out properties where the average sqft per BHK is less than 300\n",
    "df8[(df8['total_sqft']/df8['bhk']) < 300]"
   ]
  },
  {
   "cell_type": "markdown",
   "id": "474ed2a5-d987-46ba-8be2-5d03f1c46034",
   "metadata": {},
   "source": [
    "### Removing Outliers Based on Square Footage per BHK\n",
    "To maintain data quality, we filter out properties where the average square footage per bedroom (BHK) is less than 300 sqft. \n",
    "Such properties are likely to be outliers or incorrectly entered data points, as a livable space per bedroom should generally be larger."
   ]
  },
  {
   "cell_type": "code",
   "execution_count": 263,
   "id": "4e1a67d9-573c-4b80-a385-6fff4517b509",
   "metadata": {},
   "outputs": [],
   "source": [
    "df9 = df8[~((df8['total_sqft']/df8['bhk']) < 300)]"
   ]
  },
  {
   "cell_type": "code",
   "execution_count": 264,
   "id": "026bb2c2-395a-4a0c-a902-db81d47513ee",
   "metadata": {},
   "outputs": [
    {
     "data": {
      "text/plain": [
       "(12444, 6)"
      ]
     },
     "execution_count": 264,
     "metadata": {},
     "output_type": "execute_result"
    }
   ],
   "source": [
    "df9.shape"
   ]
  },
  {
   "cell_type": "code",
   "execution_count": 265,
   "id": "deab2141-692c-4463-86fb-584d5a87e6a0",
   "metadata": {},
   "outputs": [
    {
     "data": {
      "text/plain": [
       "count     12444.000000\n",
       "mean       6309.294348\n",
       "std        4169.956605\n",
       "min         267.829813\n",
       "25%        4210.280144\n",
       "50%        5294.117647\n",
       "75%        6917.657750\n",
       "max      176470.588235\n",
       "Name: price_per_sq_ft, dtype: float64"
      ]
     },
     "execution_count": 265,
     "metadata": {},
     "output_type": "execute_result"
    }
   ],
   "source": [
    "df9['price_per_sq_ft'].describe()"
   ]
  },
  {
   "cell_type": "code",
   "execution_count": 196,
   "id": "e1ee8462-969d-4bb6-9258-bcade9890f70",
   "metadata": {},
   "outputs": [
    {
     "data": {
      "text/plain": [
       "Text(0.5, 1.0, 'Box Plot of Price Per Square Foot')"
      ]
     },
     "execution_count": 196,
     "metadata": {},
     "output_type": "execute_result"
    },
    {
     "data": {
      "image/png": "[encoded data removed]",
      "text/plain": [
       "<Figure size 800x600 with 1 Axes>"
      ]
     },
     "metadata": {},
     "output_type": "display_data"
    }
   ],
   "source": [
    "plt.figure(figsize = (8,6))\n",
    "sns.boxplot(y = df9['price_per_sq_ft'])\n",
    "plt.xlabel('Price Per Square Foot')\n",
    "plt.title('Box Plot of Price Per Square Foot')"
   ]
  },
  {
   "cell_type": "markdown",
   "id": "12db6e7e-4d36-4d39-82e1-31a4802a1460",
   "metadata": {},
   "source": [
    "## Removing Outliers per Location using IQR\n",
    "This function removes outliers from a specified column using the **Interquartile Range (IQR) method**, applied separately for each unique location.\n",
    "\n",
    "### **Why use IQR for outlier detection?**\n",
    "- The **IQR method** is effective in detecting extreme values.\n",
    "- By applying it separately per location, we ensure that each location’s unique price distribution is considered.\n",
    "- This method helps in **reducing noise** while keeping meaningful data.\n",
    "\n",
    "### **How does the function work?**\n",
    "1. The dataset is grouped by `location`, meaning outlier detection is performed **per location**.\n",
    "2. The **first quartile (Q1)** and **third quartile (Q3)** are computed for the specified column.\n",
    "3. The **Interquartile Range (IQR) = Q3 - Q1** is calculated.\n",
    "4. A lower and upper bound is set using `l_multiplier` and `u_multiplier`, which adjust the sensitivity of outlier detection.\n",
    "5. Data points falling outside this range are **filtered out**.\n",
    "6. The cleaned data is returned as a new DataFrame.\n",
    "\n",
    "**Adjusting the multipliers (`l_multiplier`, `u_multiplier`) allows for controlling the strictness of outlier removal.** \n",
    "\n",
    "For instance:\n",
    "- A typical choice is **1.5** for both multipliers.\n",
    "- Higher values (e.g., **3.0**) make outlier detection **less strict**, keeping more data.\n",
    "- Lower values (e.g., **1.0**) make it **more aggressive**, removing more outliers.\n",
    "\n"
   ]
  },
  {
   "cell_type": "code",
   "execution_count": 267,
   "id": "cef4d6ee-95b1-4f5b-b1d0-8a79e5675273",
   "metadata": {},
   "outputs": [],
   "source": [
    "def remove_outliers_per_location(df, column, l_multiplier, u_multiplier):\n",
    "    \"\"\"\n",
    "    Removes outliers for a given column based on the Interquartile Range (IQR) method,\n",
    "    applied separately for each location.\n",
    "\n",
    "    Parameters:\n",
    "    df (pd.DataFrame): The input DataFrame containing property data.\n",
    "    column (str): The column on which outlier detection should be applied.\n",
    "    l_multiplier (float): Multiplier for IQR to define the lower bound.\n",
    "    u_multiplier (float): Multiplier for IQR to define the upper bound.\n",
    "\n",
    "    Returns:\n",
    "    pd.DataFrame: A new DataFrame with outliers removed.\n",
    "    \"\"\"\n",
    "    \n",
    "    df_out = pd.DataFrame()  # Initialize an empty DataFrame to store results\n",
    "\n",
    "    # Iterate through each unique location in the dataset\n",
    "    for location, sub_df in df.groupby('location'):\n",
    "        Q1 = sub_df[column].quantile(0.25)  # First quartile (25th percentile)\n",
    "        Q3 = sub_df[column].quantile(0.75)  # Third quartile (75th percentile)\n",
    "        IQR = Q3 - Q1  # Interquartile range (IQR)\n",
    "\n",
    "        # Define lower and upper bounds for outlier detection\n",
    "        lower_bound = Q1 - (l_multiplier * IQR)\n",
    "        upper_bound = Q3 + (u_multiplier * IQR)\n",
    "\n",
    "        # Filter data within the acceptable range\n",
    "        filtered_subdf = sub_df[(sub_df[column] >= lower_bound) & (sub_df[column] <= upper_bound)]\n",
    "\n",
    "        # Append the cleaned data to the output DataFrame\n",
    "        df_out = pd.concat([df_out, filtered_subdf], ignore_index=True)\n",
    "    \n",
    "    return df_out  # Return the cleaned dataset\n"
   ]
  },
  {
   "cell_type": "code",
   "execution_count": 268,
   "id": "a8568e94-8170-451a-8f77-64a701c542fc",
   "metadata": {},
   "outputs": [],
   "source": [
    "df10 = remove_outliers_per_location(df9,'price_per_sq_ft',l_multiplier=0.8, u_multiplier= 1.5)"
   ]
  },
  {
   "cell_type": "code",
   "execution_count": 269,
   "id": "6753823a-bbd9-4078-9951-4c39dd1029b7",
   "metadata": {},
   "outputs": [
    {
     "data": {
      "text/html": [
       "<div>\n",
       "<style scoped>\n",
       "    .dataframe tbody tr th:only-of-type {\n",
       "        vertical-align: middle;\n",
       "    }\n",
       "\n",
       "    .dataframe tbody tr th {\n",
       "        vertical-align: top;\n",
       "    }\n",
       "\n",
       "    .dataframe thead th {\n",
       "        text-align: right;\n",
       "    }\n",
       "</style>\n",
       "<table border=\"1\" class=\"dataframe\">\n",
       "  <thead>\n",
       "    <tr style=\"text-align: right;\">\n",
       "      <th></th>\n",
       "      <th>location</th>\n",
       "      <th>total_sqft</th>\n",
       "      <th>bath</th>\n",
       "      <th>price</th>\n",
       "      <th>bhk</th>\n",
       "      <th>price_per_sq_ft</th>\n",
       "    </tr>\n",
       "  </thead>\n",
       "  <tbody>\n",
       "    <tr>\n",
       "      <th>0</th>\n",
       "      <td>1st Block Jayanagar</td>\n",
       "      <td>2850.0</td>\n",
       "      <td>4.0</td>\n",
       "      <td>428.0</td>\n",
       "      <td>4</td>\n",
       "      <td>15017.543860</td>\n",
       "    </tr>\n",
       "    <tr>\n",
       "      <th>1</th>\n",
       "      <td>1st Block Jayanagar</td>\n",
       "      <td>1630.0</td>\n",
       "      <td>3.0</td>\n",
       "      <td>194.0</td>\n",
       "      <td>3</td>\n",
       "      <td>11901.840491</td>\n",
       "    </tr>\n",
       "    <tr>\n",
       "      <th>2</th>\n",
       "      <td>1st Block Jayanagar</td>\n",
       "      <td>1875.0</td>\n",
       "      <td>2.0</td>\n",
       "      <td>235.0</td>\n",
       "      <td>3</td>\n",
       "      <td>12533.333333</td>\n",
       "    </tr>\n",
       "    <tr>\n",
       "      <th>3</th>\n",
       "      <td>1st Block Jayanagar</td>\n",
       "      <td>2400.0</td>\n",
       "      <td>4.0</td>\n",
       "      <td>450.0</td>\n",
       "      <td>4</td>\n",
       "      <td>18750.000000</td>\n",
       "    </tr>\n",
       "    <tr>\n",
       "      <th>4</th>\n",
       "      <td>1st Block Jayanagar</td>\n",
       "      <td>1200.0</td>\n",
       "      <td>2.0</td>\n",
       "      <td>130.0</td>\n",
       "      <td>3</td>\n",
       "      <td>10833.333333</td>\n",
       "    </tr>\n",
       "  </tbody>\n",
       "</table>\n",
       "</div>"
      ],
      "text/plain": [
       "              location  total_sqft  bath  price  bhk  price_per_sq_ft\n",
       "0  1st Block Jayanagar      2850.0   4.0  428.0    4     15017.543860\n",
       "1  1st Block Jayanagar      1630.0   3.0  194.0    3     11901.840491\n",
       "2  1st Block Jayanagar      1875.0   2.0  235.0    3     12533.333333\n",
       "3  1st Block Jayanagar      2400.0   4.0  450.0    4     18750.000000\n",
       "4  1st Block Jayanagar      1200.0   2.0  130.0    3     10833.333333"
      ]
     },
     "execution_count": 269,
     "metadata": {},
     "output_type": "execute_result"
    }
   ],
   "source": [
    "df10.head()"
   ]
  },
  {
   "cell_type": "code",
   "execution_count": 270,
   "id": "bf3118e6-cf5b-465d-99df-8ad42b4bddb6",
   "metadata": {},
   "outputs": [
    {
     "data": {
      "text/plain": [
       "Text(0.5, 1.0, 'Box Plot of Price Per Square Foot')"
      ]
     },
     "execution_count": 270,
     "metadata": {},
     "output_type": "execute_result"
    },
    {
     "data": {
      "image/png": "[encoded data removed]",
      "text/plain": [
       "<Figure size 800x600 with 1 Axes>"
      ]
     },
     "metadata": {},
     "output_type": "display_data"
    }
   ],
   "source": [
    "plt.figure(figsize = (8,6))\n",
    "sns.boxplot(y = df10['price_per_sq_ft'])\n",
    "plt.xlabel('Price Per Square Foot')\n",
    "plt.title('Box Plot of Price Per Square Foot')"
   ]
  },
  {
   "cell_type": "code",
   "execution_count": 271,
   "id": "aeb8611c-e895-4d52-a534-050f6d5a79d2",
   "metadata": {},
   "outputs": [
    {
     "data": {
      "text/html": [
       "<div>\n",
       "<style scoped>\n",
       "    .dataframe tbody tr th:only-of-type {\n",
       "        vertical-align: middle;\n",
       "    }\n",
       "\n",
       "    .dataframe tbody tr th {\n",
       "        vertical-align: top;\n",
       "    }\n",
       "\n",
       "    .dataframe thead th {\n",
       "        text-align: right;\n",
       "    }\n",
       "</style>\n",
       "<table border=\"1\" class=\"dataframe\">\n",
       "  <thead>\n",
       "    <tr style=\"text-align: right;\">\n",
       "      <th></th>\n",
       "      <th>total_sqft</th>\n",
       "      <th>bath</th>\n",
       "      <th>price</th>\n",
       "      <th>bhk</th>\n",
       "      <th>price_per_sq_ft</th>\n",
       "    </tr>\n",
       "  </thead>\n",
       "  <tbody>\n",
       "    <tr>\n",
       "      <th>count</th>\n",
       "      <td>11372.000000</td>\n",
       "      <td>11372.000000</td>\n",
       "      <td>11372.000000</td>\n",
       "      <td>11372.000000</td>\n",
       "      <td>11372.000000</td>\n",
       "    </tr>\n",
       "    <tr>\n",
       "      <th>mean</th>\n",
       "      <td>1518.954380</td>\n",
       "      <td>2.495779</td>\n",
       "      <td>94.510331</td>\n",
       "      <td>2.590573</td>\n",
       "      <td>5769.179385</td>\n",
       "    </tr>\n",
       "    <tr>\n",
       "      <th>std</th>\n",
       "      <td>892.873436</td>\n",
       "      <td>1.004028</td>\n",
       "      <td>95.886980</td>\n",
       "      <td>0.916710</td>\n",
       "      <td>2506.883207</td>\n",
       "    </tr>\n",
       "    <tr>\n",
       "      <th>min</th>\n",
       "      <td>300.000000</td>\n",
       "      <td>1.000000</td>\n",
       "      <td>10.000000</td>\n",
       "      <td>1.000000</td>\n",
       "      <td>1250.000000</td>\n",
       "    </tr>\n",
       "    <tr>\n",
       "      <th>25%</th>\n",
       "      <td>1107.000000</td>\n",
       "      <td>2.000000</td>\n",
       "      <td>48.122500</td>\n",
       "      <td>2.000000</td>\n",
       "      <td>4197.987910</td>\n",
       "    </tr>\n",
       "    <tr>\n",
       "      <th>50%</th>\n",
       "      <td>1290.000000</td>\n",
       "      <td>2.000000</td>\n",
       "      <td>67.500000</td>\n",
       "      <td>2.000000</td>\n",
       "      <td>5200.000000</td>\n",
       "    </tr>\n",
       "    <tr>\n",
       "      <th>75%</th>\n",
       "      <td>1655.000000</td>\n",
       "      <td>3.000000</td>\n",
       "      <td>104.000000</td>\n",
       "      <td>3.000000</td>\n",
       "      <td>6600.000000</td>\n",
       "    </tr>\n",
       "    <tr>\n",
       "      <th>max</th>\n",
       "      <td>30400.000000</td>\n",
       "      <td>16.000000</td>\n",
       "      <td>2200.000000</td>\n",
       "      <td>16.000000</td>\n",
       "      <td>27083.333333</td>\n",
       "    </tr>\n",
       "  </tbody>\n",
       "</table>\n",
       "</div>"
      ],
      "text/plain": [
       "         total_sqft          bath         price           bhk  price_per_sq_ft\n",
       "count  11372.000000  11372.000000  11372.000000  11372.000000     11372.000000\n",
       "mean    1518.954380      2.495779     94.510331      2.590573      5769.179385\n",
       "std      892.873436      1.004028     95.886980      0.916710      2506.883207\n",
       "min      300.000000      1.000000     10.000000      1.000000      1250.000000\n",
       "25%     1107.000000      2.000000     48.122500      2.000000      4197.987910\n",
       "50%     1290.000000      2.000000     67.500000      2.000000      5200.000000\n",
       "75%     1655.000000      3.000000    104.000000      3.000000      6600.000000\n",
       "max    30400.000000     16.000000   2200.000000     16.000000     27083.333333"
      ]
     },
     "execution_count": 271,
     "metadata": {},
     "output_type": "execute_result"
    }
   ],
   "source": [
    "df10.describe()"
   ]
  },
  {
   "cell_type": "markdown",
   "id": "3b942c27-32b9-48ad-b742-c2c5b314be29",
   "metadata": {},
   "source": [
    "## Scatter Plot: 2 BHK vs 3 BHK Prices\n",
    "This function visualizes the price distribution of **2 BHK and 3 BHK** properties in a given location.\n",
    "\n",
    "### **Why use this scatter plot?**\n",
    "- Helps compare pricing patterns of 2 BHK and 3 BHK properties.\n",
    "- Identifies outliers where a 3 BHK is priced lower than a 2 BHK.\n",
    "- Assists in understanding price variation concerning square footage.\n",
    "\n",
    "### **How to interpret the plot?**\n",
    "- **Blue dots** represent 2 BHK properties.\n",
    "- **Green plus markers (+)** represent 3 BHK properties.\n",
    "- Ideally, **3 BHK properties should be priced higher** than 2 BHK properties with similar square footage.\n",
    "- If **green crosses overlap with or fall below blue dots**, it could indicate inconsistencies, pricing anomalies."
   ]
  },
  {
   "cell_type": "code",
   "execution_count": 277,
   "id": "c34eb7e5-f492-481c-9584-dbee85d9cd00",
   "metadata": {},
   "outputs": [],
   "source": [
    "def plot_scatter_plot(df, location):\n",
    "    \"\"\"\n",
    "    Plots a scatter plot comparing 2 BHK and 3 BHK property prices for a given location.\n",
    "\n",
    "    Parameters:\n",
    "    df (pd.DataFrame): The input DataFrame containing property data.\n",
    "    location (str): The location to filter the data for visualization.\n",
    "\n",
    "    Returns:\n",
    "    None (Displays the scatter plot).\n",
    "    \"\"\"\n",
    "\n",
    "    # Filtering the dataset for 2 BHK and 3 BHK properties in the given location\n",
    "    bhk2 = df[(df.location == location) & (df.bhk == 2)]\n",
    "    bhk3 = df[(df.location == location) & (df.bhk == 3)]\n",
    "\n",
    "    # Setting figure size for better visualization\n",
    "    matplotlib.rcParams['figure.figsize'] = (12, 9)\n",
    "\n",
    "    # Scatter plot for 2 BHK properties (blue dots)\n",
    "    plt.scatter(bhk2.total_sqft, bhk2.price, color='blue', label='2 BHK', s=50)\n",
    "\n",
    "    # Scatter plot for 3 BHK properties (green plus markers)\n",
    "    plt.scatter(bhk3.total_sqft, bhk3.price, color='green', marker='+', label='3 BHK', s=50)\n",
    "\n",
    "    # Adding labels and title\n",
    "    plt.xlabel('Total Square Feet Area')\n",
    "    plt.ylabel('Price')\n",
    "    plt.title(f'Price vs Square Footage in {location}')\n",
    "\n",
    "    # Adding a legend to distinguish between 2 BHK and 3 BHK\n",
    "    plt.legend()\n",
    "\n",
    "    # Display the plot\n",
    "    plt.show()"
   ]
  },
  {
   "cell_type": "code",
   "execution_count": 278,
   "id": "70d6d23c-4474-4541-a36f-1a3e0e1dbae3",
   "metadata": {},
   "outputs": [
    {
     "data": {
      "image/png": "[encoded data removed]",
      "text/plain": [
       "<Figure size 1200x900 with 1 Axes>"
      ]
     },
     "metadata": {},
     "output_type": "display_data"
    }
   ],
   "source": [
    "plot_scatter_plot(df10, 'Rajaji Nagar')"
   ]
  },
  {
   "cell_type": "code",
   "execution_count": 279,
   "id": "b1b6cc0b-7b0d-4639-9782-cf01bb396ee1",
   "metadata": {},
   "outputs": [
    {
     "data": {
      "image/png": "[encoded data removed]",
      "text/plain": [
       "<Figure size 1200x900 with 1 Axes>"
      ]
     },
     "metadata": {},
     "output_type": "display_data"
    }
   ],
   "source": [
    "plot_scatter_plot(df10, 'Rajaji Nagar')"
   ]
  },
  {
   "cell_type": "markdown",
   "id": "5f2186b1-2450-4681-bd48-3948deb60fe6",
   "metadata": {},
   "source": [
    "### Removing Outliers Based on BHK Pricing\n",
    "This function removes cases where a **higher BHK unit (e.g., 3 BHK)** is priced **lower than the mean price per square foot** \n",
    "of a **lower BHK unit (e.g., 2 BHK)** in the same location.\n",
    "\n",
    "### **Why is this important?**\n",
    "- Ensures pricing follows a logical pattern (i.e., larger units should generally cost more per sqft).\n",
    "- Helps remove **anomalies**, such as mispriced properties or incorrect data entries.\n",
    "- Improves data quality before feeding it into predictive models.\n",
    "\n",
    "### **How does the function work?**\n",
    "1. **Groups data by location** to ensure fair comparisons within each area.\n",
    "2. **Calculates the mean, standard deviation, and count** of `price_per_sq_ft` for each BHK category in that location.\n",
    "3. **Checks for anomalies** where a higher BHK unit is priced lower than the mean of a lower BHK.\n",
    "4. If the **lower BHK category has more than 5 listings**, it flags the **higher BHK properties** priced below the mean as outliers.\n",
    "5. **Removes the outliers** from the dataset.\n"
   ]
  },
  {
   "cell_type": "code",
   "execution_count": 281,
   "id": "bea12e72-f360-4f89-9e80-002baa613ee3",
   "metadata": {},
   "outputs": [],
   "source": [
    "def rm_outliers_bhk(df):\n",
    "    \"\"\"\n",
    "    Removes outliers where a higher BHK unit is priced lower than the mean price per square foot \n",
    "    of the previous (lower) BHK unit within the same location.\n",
    "\n",
    "    Parameters:\n",
    "    df (pd.DataFrame): The input DataFrame containing property data.\n",
    "\n",
    "    Returns:\n",
    "    pd.DataFrame: A new DataFrame with outliers removed.\n",
    "    \"\"\"\n",
    "\n",
    "    exclude_indices = np.array([])  # Initialize an empty array to store indices of outliers\n",
    "\n",
    "    # Group data by location to ensure fair price comparisons\n",
    "    for location, location_df in df.groupby('location'):\n",
    "        \n",
    "        # Compute mean, standard deviation, and count of price per square foot for each BHK in the location\n",
    "        bhk_stats = location_df.groupby('bhk')['price_per_sq_ft'].agg(['mean', 'std', 'count']).to_dict(orient='index')\n",
    "\n",
    "        # Iterate over each BHK group in the location\n",
    "        for bhk, bhk_df in location_df.groupby('bhk'):\n",
    "            \n",
    "            # Retrieve statistics for the previous (bhk-1) category\n",
    "            stats = bhk_stats.get(bhk - 1)\n",
    "            \n",
    "            # Check if the previous BHK category exists and has more than 5 data points\n",
    "            if stats and stats['count'] > 5:\n",
    "                \n",
    "                # Identify properties where a higher BHK is priced lower than the mean of the lower BHK\n",
    "                exclude_indices = np.append(exclude_indices, bhk_df[bhk_df.price_per_sq_ft < stats['mean']].index.values)\n",
    "\n",
    "    # Remove identified outliers from the dataset\n",
    "    return df.drop(exclude_indices, axis='index')\n"
   ]
  },
  {
   "cell_type": "code",
   "execution_count": 282,
   "id": "be7a6930-b051-4a71-bcaf-9b7fff10193a",
   "metadata": {},
   "outputs": [],
   "source": [
    "df11 = rm_outliers_bhk(df10)"
   ]
  },
  {
   "cell_type": "code",
   "execution_count": 283,
   "id": "9862d9c9-274e-42de-8a90-d7b1551119da",
   "metadata": {},
   "outputs": [
    {
     "data": {
      "image/png": "[encoded data removed]",
      "text/plain": [
       "<Figure size 1200x900 with 1 Axes>"
      ]
     },
     "metadata": {},
     "output_type": "display_data"
    }
   ],
   "source": [
    "plot_scatter_plot(df11, 'Rajaji Nagar')"
   ]
  },
  {
   "cell_type": "code",
   "execution_count": 284,
   "id": "50845339-a95b-4101-8ae1-9c706dc8649a",
   "metadata": {},
   "outputs": [
    {
     "data": {
      "text/plain": [
       "8127"
      ]
     },
     "execution_count": 284,
     "metadata": {},
     "output_type": "execute_result"
    }
   ],
   "source": [
    "df11.shape[0]"
   ]
  },
  {
   "cell_type": "code",
   "execution_count": 285,
   "id": "6415c565-4bd1-4ec4-8c27-a5f7893fa23e",
   "metadata": {},
   "outputs": [
    {
     "data": {
      "image/png": "[encoded data removed]",
      "text/plain": [
       "<Figure size 1000x600 with 1 Axes>"
      ]
     },
     "metadata": {},
     "output_type": "display_data"
    }
   ],
   "source": [
    "plt.figure(figsize = (10,6))\n",
    "plt.hist(df11['price_per_sq_ft'], rwidth = 0.8)\n",
    "plt.xlabel('Price Per Square Feet')\n",
    "plt.ylabel('Count')\n",
    "plt.title('Distribution of Price Per Square Foot', fontsize=14)\n",
    "plt.grid(axis='y', linestyle='--', alpha=0.9)"
   ]
  },
  {
   "cell_type": "code",
   "execution_count": 286,
   "id": "a8bcd159-b2c2-40ab-b680-f2f026d63686",
   "metadata": {},
   "outputs": [
    {
     "data": {
      "text/plain": [
       "array([ 4.,  3.,  2.,  5.,  1.,  8.,  7.,  6.,  9., 12., 10., 16., 13.])"
      ]
     },
     "execution_count": 286,
     "metadata": {},
     "output_type": "execute_result"
    }
   ],
   "source": [
    "df11.bath.unique()"
   ]
  },
  {
   "cell_type": "code",
   "execution_count": 209,
   "id": "4ef1db6d-b0ab-4d62-9d02-fbeb3703f6f0",
   "metadata": {},
   "outputs": [
    {
     "data": {
      "text/html": [
       "<div>\n",
       "<style scoped>\n",
       "    .dataframe tbody tr th:only-of-type {\n",
       "        vertical-align: middle;\n",
       "    }\n",
       "\n",
       "    .dataframe tbody tr th {\n",
       "        vertical-align: top;\n",
       "    }\n",
       "\n",
       "    .dataframe thead th {\n",
       "        text-align: right;\n",
       "    }\n",
       "</style>\n",
       "<table border=\"1\" class=\"dataframe\">\n",
       "  <thead>\n",
       "    <tr style=\"text-align: right;\">\n",
       "      <th></th>\n",
       "      <th>location</th>\n",
       "      <th>total_sqft</th>\n",
       "      <th>bath</th>\n",
       "      <th>price</th>\n",
       "      <th>bhk</th>\n",
       "      <th>price_per_sq_ft</th>\n",
       "    </tr>\n",
       "  </thead>\n",
       "  <tbody>\n",
       "    <tr>\n",
       "      <th>5987</th>\n",
       "      <td>Neeladri Nagar</td>\n",
       "      <td>4000.0</td>\n",
       "      <td>12.0</td>\n",
       "      <td>160.0</td>\n",
       "      <td>10</td>\n",
       "      <td>4000.000000</td>\n",
       "    </tr>\n",
       "    <tr>\n",
       "      <th>9602</th>\n",
       "      <td>other</td>\n",
       "      <td>12000.0</td>\n",
       "      <td>12.0</td>\n",
       "      <td>525.0</td>\n",
       "      <td>10</td>\n",
       "      <td>4375.000000</td>\n",
       "    </tr>\n",
       "    <tr>\n",
       "      <th>9691</th>\n",
       "      <td>other</td>\n",
       "      <td>10000.0</td>\n",
       "      <td>16.0</td>\n",
       "      <td>550.0</td>\n",
       "      <td>16</td>\n",
       "      <td>5500.000000</td>\n",
       "    </tr>\n",
       "    <tr>\n",
       "      <th>10429</th>\n",
       "      <td>other</td>\n",
       "      <td>6000.0</td>\n",
       "      <td>12.0</td>\n",
       "      <td>150.0</td>\n",
       "      <td>11</td>\n",
       "      <td>2500.000000</td>\n",
       "    </tr>\n",
       "    <tr>\n",
       "      <th>10762</th>\n",
       "      <td>other</td>\n",
       "      <td>5425.0</td>\n",
       "      <td>13.0</td>\n",
       "      <td>275.0</td>\n",
       "      <td>13</td>\n",
       "      <td>5069.124424</td>\n",
       "    </tr>\n",
       "  </tbody>\n",
       "</table>\n",
       "</div>"
      ],
      "text/plain": [
       "             location  total_sqft  bath  price  bhk  price_per_sq_ft\n",
       "5987   Neeladri Nagar      4000.0  12.0  160.0   10      4000.000000\n",
       "9602            other     12000.0  12.0  525.0   10      4375.000000\n",
       "9691            other     10000.0  16.0  550.0   16      5500.000000\n",
       "10429           other      6000.0  12.0  150.0   11      2500.000000\n",
       "10762           other      5425.0  13.0  275.0   13      5069.124424"
      ]
     },
     "execution_count": 209,
     "metadata": {},
     "output_type": "execute_result"
    }
   ],
   "source": [
    "df11[df11['bath'] > 10]"
   ]
  },
  {
   "cell_type": "markdown",
   "id": "93508d3b-13f3-4853-9b04-1b16e452e47d",
   "metadata": {},
   "source": [
    "### Identifying Unrealistic Bathroom Counts\n",
    "This operation filters properties where the number of bathrooms **exceeds the number of bedrooms (BHK) by more than 2**.\n",
    "\n",
    "### Why is this important?\n",
    "- In most residential properties, the number of bathrooms is usually **not much greater than the number of bedrooms**.\n",
    "- **Unrealistic values** (e.g., a 2 BHK with 6 bathrooms) might be data entry errors or outliers.\n",
    "- Helps improve **data quality and model accuracy** by removing anomalies."
   ]
  },
  {
   "cell_type": "code",
   "execution_count": 288,
   "id": "75c04705-54b9-4a25-9322-aad70a3e01b5",
   "metadata": {},
   "outputs": [
    {
     "data": {
      "text/html": [
       "<div>\n",
       "<style scoped>\n",
       "    .dataframe tbody tr th:only-of-type {\n",
       "        vertical-align: middle;\n",
       "    }\n",
       "\n",
       "    .dataframe tbody tr th {\n",
       "        vertical-align: top;\n",
       "    }\n",
       "\n",
       "    .dataframe thead th {\n",
       "        text-align: right;\n",
       "    }\n",
       "</style>\n",
       "<table border=\"1\" class=\"dataframe\">\n",
       "  <thead>\n",
       "    <tr style=\"text-align: right;\">\n",
       "      <th></th>\n",
       "      <th>location</th>\n",
       "      <th>total_sqft</th>\n",
       "      <th>bath</th>\n",
       "      <th>price</th>\n",
       "      <th>bhk</th>\n",
       "      <th>price_per_sq_ft</th>\n",
       "    </tr>\n",
       "  </thead>\n",
       "  <tbody>\n",
       "    <tr>\n",
       "      <th>1786</th>\n",
       "      <td>Chikkabanavar</td>\n",
       "      <td>2460.0</td>\n",
       "      <td>7.0</td>\n",
       "      <td>80.0</td>\n",
       "      <td>4</td>\n",
       "      <td>3252.032520</td>\n",
       "    </tr>\n",
       "    <tr>\n",
       "      <th>5936</th>\n",
       "      <td>Nagasandra</td>\n",
       "      <td>7000.0</td>\n",
       "      <td>8.0</td>\n",
       "      <td>450.0</td>\n",
       "      <td>4</td>\n",
       "      <td>6428.571429</td>\n",
       "    </tr>\n",
       "    <tr>\n",
       "      <th>6523</th>\n",
       "      <td>Rajaji Nagar</td>\n",
       "      <td>7500.0</td>\n",
       "      <td>8.0</td>\n",
       "      <td>1700.0</td>\n",
       "      <td>5</td>\n",
       "      <td>22666.666667</td>\n",
       "    </tr>\n",
       "    <tr>\n",
       "      <th>7732</th>\n",
       "      <td>Thanisandra</td>\n",
       "      <td>1806.0</td>\n",
       "      <td>6.0</td>\n",
       "      <td>116.0</td>\n",
       "      <td>3</td>\n",
       "      <td>6423.034330</td>\n",
       "    </tr>\n",
       "    <tr>\n",
       "      <th>9527</th>\n",
       "      <td>other</td>\n",
       "      <td>11338.0</td>\n",
       "      <td>9.0</td>\n",
       "      <td>1000.0</td>\n",
       "      <td>6</td>\n",
       "      <td>8819.897689</td>\n",
       "    </tr>\n",
       "  </tbody>\n",
       "</table>\n",
       "</div>"
      ],
      "text/plain": [
       "           location  total_sqft  bath   price  bhk  price_per_sq_ft\n",
       "1786  Chikkabanavar      2460.0   7.0    80.0    4      3252.032520\n",
       "5936     Nagasandra      7000.0   8.0   450.0    4      6428.571429\n",
       "6523   Rajaji Nagar      7500.0   8.0  1700.0    5     22666.666667\n",
       "7732    Thanisandra      1806.0   6.0   116.0    3      6423.034330\n",
       "9527          other     11338.0   9.0  1000.0    6      8819.897689"
      ]
     },
     "execution_count": 288,
     "metadata": {},
     "output_type": "execute_result"
    }
   ],
   "source": [
    "# Filtering properties where the number of bathrooms exceeds bedrooms (BHK) + 2\n",
    "df11[df11.bath > (df11.bhk + 2)]"
   ]
  },
  {
   "cell_type": "code",
   "execution_count": 290,
   "id": "bf376dfd-c61d-4db7-a6ad-903777644a37",
   "metadata": {},
   "outputs": [],
   "source": [
    "# Removing properties where the number of bathrooms exceeds (BHK + 2)\n",
    "df12 = df11[~(df11.bath > (df11.bhk + 2))]"
   ]
  },
  {
   "cell_type": "code",
   "execution_count": 291,
   "id": "f0005af9-640d-4d07-a382-4893f77c6325",
   "metadata": {},
   "outputs": [
    {
     "data": {
      "text/plain": [
       "8122"
      ]
     },
     "execution_count": 291,
     "metadata": {},
     "output_type": "execute_result"
    }
   ],
   "source": [
    "df12.shape[0]"
   ]
  },
  {
   "cell_type": "code",
   "execution_count": 214,
   "id": "f62cd893-a89f-4ab2-a8dc-53a154173e0e",
   "metadata": {},
   "outputs": [
    {
     "data": {
      "text/html": [
       "<div>\n",
       "<style scoped>\n",
       "    .dataframe tbody tr th:only-of-type {\n",
       "        vertical-align: middle;\n",
       "    }\n",
       "\n",
       "    .dataframe tbody tr th {\n",
       "        vertical-align: top;\n",
       "    }\n",
       "\n",
       "    .dataframe thead th {\n",
       "        text-align: right;\n",
       "    }\n",
       "</style>\n",
       "<table border=\"1\" class=\"dataframe\">\n",
       "  <thead>\n",
       "    <tr style=\"text-align: right;\">\n",
       "      <th></th>\n",
       "      <th>location</th>\n",
       "      <th>total_sqft</th>\n",
       "      <th>bath</th>\n",
       "      <th>price</th>\n",
       "      <th>bhk</th>\n",
       "      <th>price_per_sq_ft</th>\n",
       "    </tr>\n",
       "  </thead>\n",
       "  <tbody>\n",
       "    <tr>\n",
       "      <th>0</th>\n",
       "      <td>1st Block Jayanagar</td>\n",
       "      <td>2850.0</td>\n",
       "      <td>4.0</td>\n",
       "      <td>428.0</td>\n",
       "      <td>4</td>\n",
       "      <td>15017.543860</td>\n",
       "    </tr>\n",
       "    <tr>\n",
       "      <th>1</th>\n",
       "      <td>1st Block Jayanagar</td>\n",
       "      <td>1630.0</td>\n",
       "      <td>3.0</td>\n",
       "      <td>194.0</td>\n",
       "      <td>3</td>\n",
       "      <td>11901.840491</td>\n",
       "    </tr>\n",
       "    <tr>\n",
       "      <th>2</th>\n",
       "      <td>1st Block Jayanagar</td>\n",
       "      <td>1875.0</td>\n",
       "      <td>2.0</td>\n",
       "      <td>235.0</td>\n",
       "      <td>3</td>\n",
       "      <td>12533.333333</td>\n",
       "    </tr>\n",
       "    <tr>\n",
       "      <th>3</th>\n",
       "      <td>1st Block Jayanagar</td>\n",
       "      <td>2400.0</td>\n",
       "      <td>4.0</td>\n",
       "      <td>450.0</td>\n",
       "      <td>4</td>\n",
       "      <td>18750.000000</td>\n",
       "    </tr>\n",
       "    <tr>\n",
       "      <th>4</th>\n",
       "      <td>1st Block Jayanagar</td>\n",
       "      <td>1200.0</td>\n",
       "      <td>2.0</td>\n",
       "      <td>130.0</td>\n",
       "      <td>3</td>\n",
       "      <td>10833.333333</td>\n",
       "    </tr>\n",
       "  </tbody>\n",
       "</table>\n",
       "</div>"
      ],
      "text/plain": [
       "              location  total_sqft  bath  price  bhk  price_per_sq_ft\n",
       "0  1st Block Jayanagar      2850.0   4.0  428.0    4     15017.543860\n",
       "1  1st Block Jayanagar      1630.0   3.0  194.0    3     11901.840491\n",
       "2  1st Block Jayanagar      1875.0   2.0  235.0    3     12533.333333\n",
       "3  1st Block Jayanagar      2400.0   4.0  450.0    4     18750.000000\n",
       "4  1st Block Jayanagar      1200.0   2.0  130.0    3     10833.333333"
      ]
     },
     "execution_count": 214,
     "metadata": {},
     "output_type": "execute_result"
    }
   ],
   "source": [
    "df12.head()"
   ]
  },
  {
   "cell_type": "code",
   "execution_count": 292,
   "id": "e5fd8cda-58b7-428e-8ca5-f6f40d63e9e1",
   "metadata": {},
   "outputs": [],
   "source": [
    "# Dropping the 'price_per_sq_ft' column as it's no longer needed\n",
    "df13 = df12.drop(['price_per_sq_ft'], axis=1)"
   ]
  },
  {
   "cell_type": "code",
   "execution_count": 294,
   "id": "838f86d0-8b9a-4157-903d-871a02c48c92",
   "metadata": {},
   "outputs": [
    {
     "data": {
      "text/html": [
       "<div>\n",
       "<style scoped>\n",
       "    .dataframe tbody tr th:only-of-type {\n",
       "        vertical-align: middle;\n",
       "    }\n",
       "\n",
       "    .dataframe tbody tr th {\n",
       "        vertical-align: top;\n",
       "    }\n",
       "\n",
       "    .dataframe thead th {\n",
       "        text-align: right;\n",
       "    }\n",
       "</style>\n",
       "<table border=\"1\" class=\"dataframe\">\n",
       "  <thead>\n",
       "    <tr style=\"text-align: right;\">\n",
       "      <th></th>\n",
       "      <th>location</th>\n",
       "      <th>total_sqft</th>\n",
       "      <th>bath</th>\n",
       "      <th>price</th>\n",
       "      <th>bhk</th>\n",
       "    </tr>\n",
       "  </thead>\n",
       "  <tbody>\n",
       "    <tr>\n",
       "      <th>0</th>\n",
       "      <td>1st Block Jayanagar</td>\n",
       "      <td>2850.0</td>\n",
       "      <td>4.0</td>\n",
       "      <td>428.0</td>\n",
       "      <td>4</td>\n",
       "    </tr>\n",
       "    <tr>\n",
       "      <th>1</th>\n",
       "      <td>1st Block Jayanagar</td>\n",
       "      <td>1630.0</td>\n",
       "      <td>3.0</td>\n",
       "      <td>194.0</td>\n",
       "      <td>3</td>\n",
       "    </tr>\n",
       "    <tr>\n",
       "      <th>2</th>\n",
       "      <td>1st Block Jayanagar</td>\n",
       "      <td>1875.0</td>\n",
       "      <td>2.0</td>\n",
       "      <td>235.0</td>\n",
       "      <td>3</td>\n",
       "    </tr>\n",
       "    <tr>\n",
       "      <th>3</th>\n",
       "      <td>1st Block Jayanagar</td>\n",
       "      <td>2400.0</td>\n",
       "      <td>4.0</td>\n",
       "      <td>450.0</td>\n",
       "      <td>4</td>\n",
       "    </tr>\n",
       "    <tr>\n",
       "      <th>4</th>\n",
       "      <td>1st Block Jayanagar</td>\n",
       "      <td>1200.0</td>\n",
       "      <td>2.0</td>\n",
       "      <td>130.0</td>\n",
       "      <td>3</td>\n",
       "    </tr>\n",
       "  </tbody>\n",
       "</table>\n",
       "</div>"
      ],
      "text/plain": [
       "              location  total_sqft  bath  price  bhk\n",
       "0  1st Block Jayanagar      2850.0   4.0  428.0    4\n",
       "1  1st Block Jayanagar      1630.0   3.0  194.0    3\n",
       "2  1st Block Jayanagar      1875.0   2.0  235.0    3\n",
       "3  1st Block Jayanagar      2400.0   4.0  450.0    4\n",
       "4  1st Block Jayanagar      1200.0   2.0  130.0    3"
      ]
     },
     "execution_count": 294,
     "metadata": {},
     "output_type": "execute_result"
    }
   ],
   "source": [
    "df13.head()"
   ]
  },
  {
   "cell_type": "markdown",
   "id": "aeeaccb9-f096-48b5-a7f9-e30c15ac1b53",
   "metadata": {},
   "source": [
    "## 5. Exploratory Data Analysis (EDA)\n",
    "\n",
    "After cleaning and preprocessing the dataset, it's important to analyze patterns, distributions, and relationships within the data. The following visualizations will help us gain insights into the housing market."
   ]
  },
  {
   "cell_type": "markdown",
   "id": "f8296e4d-3cd3-49e7-b672-10900fa809af",
   "metadata": {},
   "source": [
    "### 5.1. Distribution of Prices\n"
   ]
  },
  {
   "cell_type": "code",
   "execution_count": 301,
   "id": "5c7c0e94-6f9b-4b41-b209-7be4912d8a6f",
   "metadata": {},
   "outputs": [
    {
     "data": {
      "image/png": "[encoded data removed]",
      "text/plain": [
       "<Figure size 1000x600 with 1 Axes>"
      ]
     },
     "metadata": {},
     "output_type": "display_data"
    }
   ],
   "source": [
    "plt.figure(figsize=(10, 6))\n",
    "sns.histplot(df13['price'], bins=30, kde=True)\n",
    "plt.xlabel('Price (in Lakhs)')\n",
    "plt.ylabel('Frequency')\n",
    "plt.title('Distribution of Property Prices')\n",
    "plt.show()\n"
   ]
  },
  {
   "cell_type": "markdown",
   "id": "ca9a4b94-fdad-4fb3-bc29-3ed7cc3b4a48",
   "metadata": {},
   "source": [
    "### 5.2. Price vs Total Square Feet (Scatter Plot)"
   ]
  },
  {
   "cell_type": "code",
   "execution_count": 302,
   "id": "47a16fd5-5b30-46c1-92bf-3d4651ac31d7",
   "metadata": {},
   "outputs": [
    {
     "data": {
      "image/png": "[encoded data removed]",
      "text/plain": [
       "<Figure size 1000x600 with 1 Axes>"
      ]
     },
     "metadata": {},
     "output_type": "display_data"
    }
   ],
   "source": [
    "plt.figure(figsize=(10, 6))\n",
    "plt.scatter(df13['total_sqft'], df13['price'], alpha=0.5, color='blue')\n",
    "plt.xlabel('Total Square Feet')\n",
    "plt.ylabel('Price')\n",
    "plt.title('Price vs Total Square Feet')\n",
    "plt.show()"
   ]
  },
  {
   "cell_type": "markdown",
   "id": "ac509e91-c643-4c67-83ff-16f683c29548",
   "metadata": {},
   "source": [
    "### 5.3. Box Plot of Prices by BHK"
   ]
  },
  {
   "cell_type": "code",
   "execution_count": 303,
   "id": "97886191-a4ab-4ca3-b1d7-d048ce4c7fb3",
   "metadata": {},
   "outputs": [
    {
     "data": {
      "image/png": "[encoded data removed]",
      "text/plain": [
       "<Figure size 1000x600 with 1 Axes>"
      ]
     },
     "metadata": {},
     "output_type": "display_data"
    }
   ],
   "source": [
    "plt.figure(figsize=(10, 6))\n",
    "sns.boxplot(x=df13['bhk'], y=df13['price'])\n",
    "plt.xlabel('BHK')\n",
    "plt.ylabel('Price (in Lakhs)')\n",
    "plt.title('Box Plot of Price by BHK')\n",
    "plt.show()"
   ]
  },
  {
   "cell_type": "markdown",
   "id": "4279c35e-0480-4beb-b566-573234897d48",
   "metadata": {},
   "source": [
    "### 5.4 Count of Properties per BHK"
   ]
  },
  {
   "cell_type": "code",
   "execution_count": 304,
   "id": "0e8af87a-1e11-4363-953c-ffa08b41ba62",
   "metadata": {},
   "outputs": [
    {
     "data": {
      "image/png": "[encoded data removed]",
      "text/plain": [
       "<Figure size 1000x600 with 1 Axes>"
      ]
     },
     "metadata": {},
     "output_type": "display_data"
    }
   ],
   "source": [
    "plt.figure(figsize=(10, 6))\n",
    "sns.countplot(x=df13['bhk'])\n",
    "plt.xlabel('Number of BHKs')\n",
    "plt.ylabel('Count of Properties')\n",
    "plt.title('Count of Properties by BHK')\n",
    "plt.show()\n"
   ]
  },
  {
   "cell_type": "markdown",
   "id": "6a86a665-b494-4ae0-a0cf-b4ef24bfb3c3",
   "metadata": {},
   "source": [
    "### 5.5 Top 10 Locations with Most Listings"
   ]
  },
  {
   "cell_type": "code",
   "execution_count": 305,
   "id": "01807b9f-5a6f-4774-bf48-878fb36381bd",
   "metadata": {},
   "outputs": [
    {
     "data": {
      "image/png": "[encoded data removed]",
      "text/plain": [
       "<Figure size 1200x600 with 1 Axes>"
      ]
     },
     "metadata": {},
     "output_type": "display_data"
    }
   ],
   "source": [
    "plt.figure(figsize=(12, 6))\n",
    "df13['location'].value_counts().nlargest(10).plot(kind='bar')\n",
    "plt.xlabel('Location')\n",
    "plt.ylabel('Number of Listings')\n",
    "plt.title('Top 10 Locations with Most Listings')\n",
    "plt.xticks(rotation=45)\n",
    "plt.show()"
   ]
  },
  {
   "cell_type": "markdown",
   "id": "d11c26d2-0ad1-4cb0-aa31-54fb72373666",
   "metadata": {},
   "source": [
    "## **6. Model Building**\n",
    "\n",
    "After performing **data cleaning** and **exploratory data analysis (EDA)**, we now proceed with **building a predictive model** to estimate property prices.\n"
   ]
  },
  {
   "cell_type": "markdown",
   "id": "b0aa30de-83a9-41ea-af28-29fbe2a27287",
   "metadata": {},
   "source": [
    "### Encoding Categorical Location Data\n",
    "Since `location` is a categorical variable, we convert it into numerical format using **One-Hot Encoding**.\n"
   ]
  },
  {
   "cell_type": "code",
   "execution_count": 308,
   "id": "26b4155e-65b4-4f02-9240-9a0d1c3bdc92",
   "metadata": {},
   "outputs": [
    {
     "name": "stdout",
     "output_type": "stream",
     "text": [
      "       1st Block Jayanagar  1st Phase JP Nagar  2nd Phase Judicial Layout  \\\n",
      "0                        1                   0                          0   \n",
      "1                        1                   0                          0   \n",
      "2                        1                   0                          0   \n",
      "3                        1                   0                          0   \n",
      "4                        1                   0                          0   \n",
      "...                    ...                 ...                        ...   \n",
      "11363                    0                   0                          0   \n",
      "11364                    0                   0                          0   \n",
      "11367                    0                   0                          0   \n",
      "11368                    0                   0                          0   \n",
      "11371                    0                   0                          0   \n",
      "\n",
      "       2nd Stage Nagarbhavi  5th Block Hbr Layout  5th Phase JP Nagar  \\\n",
      "0                         0                     0                   0   \n",
      "1                         0                     0                   0   \n",
      "2                         0                     0                   0   \n",
      "3                         0                     0                   0   \n",
      "4                         0                     0                   0   \n",
      "...                     ...                   ...                 ...   \n",
      "11363                     0                     0                   0   \n",
      "11364                     0                     0                   0   \n",
      "11367                     0                     0                   0   \n",
      "11368                     0                     0                   0   \n",
      "11371                     0                     0                   0   \n",
      "\n",
      "       6th Phase JP Nagar  7th Phase JP Nagar  8th Phase JP Nagar  \\\n",
      "0                       0                   0                   0   \n",
      "1                       0                   0                   0   \n",
      "2                       0                   0                   0   \n",
      "3                       0                   0                   0   \n",
      "4                       0                   0                   0   \n",
      "...                   ...                 ...                 ...   \n",
      "11363                   0                   0                   0   \n",
      "11364                   0                   0                   0   \n",
      "11367                   0                   0                   0   \n",
      "11368                   0                   0                   0   \n",
      "11371                   0                   0                   0   \n",
      "\n",
      "       9th Phase JP Nagar  ...  Vishveshwarya Layout  Vishwapriya Layout  \\\n",
      "0                       0  ...                     0                   0   \n",
      "1                       0  ...                     0                   0   \n",
      "2                       0  ...                     0                   0   \n",
      "3                       0  ...                     0                   0   \n",
      "4                       0  ...                     0                   0   \n",
      "...                   ...  ...                   ...                 ...   \n",
      "11363                   0  ...                     0                   0   \n",
      "11364                   0  ...                     0                   0   \n",
      "11367                   0  ...                     0                   0   \n",
      "11368                   0  ...                     0                   0   \n",
      "11371                   0  ...                     0                   0   \n",
      "\n",
      "       Vittasandra  Whitefield  Yelachenahalli  Yelahanka  Yelahanka New Town  \\\n",
      "0                0           0               0          0                   0   \n",
      "1                0           0               0          0                   0   \n",
      "2                0           0               0          0                   0   \n",
      "3                0           0               0          0                   0   \n",
      "4                0           0               0          0                   0   \n",
      "...            ...         ...             ...        ...                 ...   \n",
      "11363            0           0               0          0                   0   \n",
      "11364            0           0               0          0                   0   \n",
      "11367            0           0               0          0                   0   \n",
      "11368            0           0               0          0                   0   \n",
      "11371            0           0               0          0                   0   \n",
      "\n",
      "       Yelenahalli  Yeshwanthpur  other  \n",
      "0                0             0      0  \n",
      "1                0             0      0  \n",
      "2                0             0      0  \n",
      "3                0             0      0  \n",
      "4                0             0      0  \n",
      "...            ...           ...    ...  \n",
      "11363            0             0      1  \n",
      "11364            0             0      1  \n",
      "11367            0             0      1  \n",
      "11368            0             0      1  \n",
      "11371            0             0      1  \n",
      "\n",
      "[8122 rows x 241 columns]\n"
     ]
    }
   ],
   "source": [
    "df13['location'] = df13['location'].astype(str)\n",
    "encoded_locations = pd.get_dummies(df13['location']).astype(int)\n",
    "print(encoded_locations)"
   ]
  },
  {
   "cell_type": "code",
   "execution_count": 309,
   "id": "940a1e56-ff86-45e5-92ab-7b85e7f4e10d",
   "metadata": {},
   "outputs": [],
   "source": [
    "# Merging the encoded location data with the original dataset\n",
    "# Dropping the 'other' column to avoid unnecessary dimensions\n",
    "df14 = pd.concat([df13, encoded_locations.drop(['other'], axis=1)], axis='columns')"
   ]
  },
  {
   "cell_type": "code",
   "execution_count": 310,
   "id": "299da31d-59a5-4f5c-b60b-e20ec280c362",
   "metadata": {},
   "outputs": [],
   "source": [
    "# Dropping the original 'location' column as it has been encoded\n",
    "df15 = df14.drop(['location'], axis=1)"
   ]
  },
  {
   "cell_type": "code",
   "execution_count": 311,
   "id": "ce3bdf33-0f78-42f0-a9e3-4945fac37bfb",
   "metadata": {},
   "outputs": [
    {
     "data": {
      "text/plain": [
       "(8122, 244)"
      ]
     },
     "execution_count": 311,
     "metadata": {},
     "output_type": "execute_result"
    }
   ],
   "source": [
    "df15.shape"
   ]
  },
  {
   "cell_type": "markdown",
   "id": "407d40ef-c2bd-4e45-b898-97860f8b503c",
   "metadata": {},
   "source": [
    "### Defining Features (X) for Model Training\n",
    "We separate the independent variables (features) from the target variable (`price`)."
   ]
  },
  {
   "cell_type": "code",
   "execution_count": 313,
   "id": "2caddcf8-755c-4458-9242-7a4fcb0479e3",
   "metadata": {},
   "outputs": [],
   "source": [
    "# Defining feature matrix (X) by dropping the target variable 'price'\n",
    "X = df15.drop('price', axis=1)"
   ]
  },
  {
   "cell_type": "code",
   "execution_count": 315,
   "id": "a0c51a61-def8-4069-b761-68472f487d09",
   "metadata": {},
   "outputs": [
    {
     "data": {
      "text/plain": [
       "0        428.0\n",
       "1        194.0\n",
       "2        235.0\n",
       "3        450.0\n",
       "4        130.0\n",
       "         ...  \n",
       "11363     70.0\n",
       "11364    200.0\n",
       "11367    110.0\n",
       "11368     26.0\n",
       "11371    400.0\n",
       "Name: price, Length: 8122, dtype: float64"
      ]
     },
     "execution_count": 315,
     "metadata": {},
     "output_type": "execute_result"
    }
   ],
   "source": [
    "# Defining the target variable (y) as 'price'\n",
    "y = df15.price\n",
    "y"
   ]
  },
  {
   "cell_type": "markdown",
   "id": "7e33e6bf-31ab-4354-be06-6d9fed3bbbc2",
   "metadata": {},
   "source": [
    "### Splitting Data into Training and Testing Sets\n",
    "To evaluate model performance, we split the dataset into training and testing sets."
   ]
  },
  {
   "cell_type": "code",
   "execution_count": 316,
   "id": "c81ce6c4-69a4-4b9e-8c55-931b698d2c0a",
   "metadata": {},
   "outputs": [],
   "source": [
    "from sklearn.model_selection import train_test_split\n",
    "\n",
    "# Splitting the dataset into 80% training and 20% testing data\n",
    "X_train, X_test, y_train, y_test = train_test_split(X, y, test_size=0.2, random_state=10)"
   ]
  },
  {
   "cell_type": "markdown",
   "id": "58330faa-a012-47bc-834b-dbbf31885997",
   "metadata": {},
   "source": [
    "### Training a Linear Regression Model\n",
    "We train a **Linear Regression** model on the dataset and evaluate its performance.\n"
   ]
  },
  {
   "cell_type": "code",
   "execution_count": 317,
   "id": "7c088d3c-7bba-46a8-a86b-e95aae5e5034",
   "metadata": {},
   "outputs": [
    {
     "data": {
      "text/plain": [
       "0.8318504964539041"
      ]
     },
     "execution_count": 317,
     "metadata": {},
     "output_type": "execute_result"
    }
   ],
   "source": [
    "from sklearn.linear_model import LinearRegression\n",
    "\n",
    "# Initializing the Linear Regression model\n",
    "lr_clf = LinearRegression()\n",
    "\n",
    "# Training the model using the training dataset\n",
    "lr_clf.fit(X_train, y_train)\n",
    "\n",
    "# Evaluating the model's performance using the R² score on the test set\n",
    "lr_clf.score(X_test, y_test)\n"
   ]
  },
  {
   "cell_type": "code",
   "execution_count": 318,
   "id": "f6e0094a-804d-409b-bd66-cb83a73d2f6b",
   "metadata": {},
   "outputs": [
    {
     "data": {
      "text/plain": [
       "array([0.77871801, 0.79479548, 0.77728308, 0.78881494, 0.82845541])"
      ]
     },
     "execution_count": 318,
     "metadata": {},
     "output_type": "execute_result"
    }
   ],
   "source": [
    "# Cross-Validation for Model Performance Evaluation\n",
    "# To ensure the model performs well on different data splits, we apply **cross-validation**.\n",
    "\n",
    "from sklearn.model_selection import ShuffleSplit\n",
    "from sklearn.model_selection import cross_val_score\n",
    "\n",
    "# Defining a ShuffleSplit cross-validator with 5 splits (80% train, 20% test each time)\n",
    "cv = ShuffleSplit(n_splits=5, test_size=0.2, random_state=0)\n",
    "\n",
    "# Performing cross-validation on the Linear Regression model\n",
    "cross_val_score(LinearRegression(), X, y, cv=cv)"
   ]
  },
  {
   "cell_type": "markdown",
   "id": "0f764edd-9a3d-4a95-aca1-e37dbd272a34",
   "metadata": {},
   "source": [
    "### Finding the Best Algorithm using Randomized Search\n",
    "To optimize model performance, we test multiple algorithms and tune their hyperparameters using **RandomizedSearchCV**.\n"
   ]
  },
  {
   "cell_type": "code",
   "execution_count": 322,
   "id": "d966d855-7abb-47c7-aa88-2f2d4a8ef52b",
   "metadata": {},
   "outputs": [],
   "source": [
    "from sklearn.model_selection import RandomizedSearchCV\n",
    "\n",
    "def best_algo_finder(X, y):\n",
    "    algos = {\n",
    "        'linear_regression': { \n",
    "            'model': LinearRegression(),\n",
    "            'parameters': {'fit_intercept': [True, False]}\n",
    "        },\n",
    "\n",
    "        'lasso': { \n",
    "            'model': Lasso(),\n",
    "            'parameters': {'alpha': [0.1, 1], 'selection': ['random', 'cyclic']}\n",
    "        },\n",
    "\n",
    "        'decision_tree': { \n",
    "            'model': DecisionTreeRegressor(),\n",
    "            'parameters': {'criterion': ['squared_error'], 'max_depth': [None, 10]}\n",
    "        },\n",
    "        \n",
    "        'random_forest': {\n",
    "            'model': RandomForestRegressor(),\n",
    "            'parameters': {'n_estimators': [100], 'max_depth': [None, 10]}\n",
    "        },\n",
    "        \n",
    "        'xgboost': {\n",
    "            'model': XGBRegressor(),\n",
    "            'parameters': {'n_estimators': [100], 'learning_rate': [0.1], 'max_depth': [6]}\n",
    "        }\n",
    "    }\n",
    "    \n",
    "    scores = []\n",
    "    cv = ShuffleSplit(n_splits=3, test_size=0.2, random_state=0)\n",
    "\n",
    "    for algo_name, config in algos.items():\n",
    "        gs = RandomizedSearchCV(config['model'], config['parameters'], cv=cv, n_iter=3, scoring='r2', n_jobs=-1, random_state=0)\n",
    "        gs.fit(X, y)\n",
    "\n",
    "        scores.append({\n",
    "            'model': algo_name,\n",
    "            'best_score': gs.best_score_,\n",
    "            'best_parameters': gs.best_params_\n",
    "        })\n",
    "\n",
    "    return pd.DataFrame(scores, columns=['model', 'best_score', 'best_parameters'])\n"
   ]
  },
  {
   "cell_type": "code",
   "execution_count": 324,
   "id": "575ea826-1af0-4aa5-bcef-ee207e16b31f",
   "metadata": {},
   "outputs": [
    {
     "name": "stderr",
     "output_type": "stream",
     "text": [
      "C:\\Users\\RAUNAKSINGH KHALSA\\anaconda3\\envs\\bengP\\Lib\\site-packages\\sklearn\\model_selection\\_search.py:317: UserWarning: The total space of parameters 2 is smaller than n_iter=3. Running 2 iterations. For exhaustive searches, use GridSearchCV.\n",
      "  warnings.warn(\n",
      "C:\\Users\\RAUNAKSINGH KHALSA\\anaconda3\\envs\\bengP\\Lib\\site-packages\\sklearn\\model_selection\\_search.py:317: UserWarning: The total space of parameters 2 is smaller than n_iter=3. Running 2 iterations. For exhaustive searches, use GridSearchCV.\n",
      "  warnings.warn(\n",
      "C:\\Users\\RAUNAKSINGH KHALSA\\anaconda3\\envs\\bengP\\Lib\\site-packages\\sklearn\\model_selection\\_search.py:317: UserWarning: The total space of parameters 2 is smaller than n_iter=3. Running 2 iterations. For exhaustive searches, use GridSearchCV.\n",
      "  warnings.warn(\n",
      "C:\\Users\\RAUNAKSINGH KHALSA\\anaconda3\\envs\\bengP\\Lib\\site-packages\\sklearn\\model_selection\\_search.py:317: UserWarning: The total space of parameters 1 is smaller than n_iter=3. Running 1 iterations. For exhaustive searches, use GridSearchCV.\n",
      "  warnings.warn(\n"
     ]
    },
    {
     "data": {
      "text/html": [
       "<div>\n",
       "<style scoped>\n",
       "    .dataframe tbody tr th:only-of-type {\n",
       "        vertical-align: middle;\n",
       "    }\n",
       "\n",
       "    .dataframe tbody tr th {\n",
       "        vertical-align: top;\n",
       "    }\n",
       "\n",
       "    .dataframe thead th {\n",
       "        text-align: right;\n",
       "    }\n",
       "</style>\n",
       "<table border=\"1\" class=\"dataframe\">\n",
       "  <thead>\n",
       "    <tr style=\"text-align: right;\">\n",
       "      <th></th>\n",
       "      <th>model</th>\n",
       "      <th>best_score</th>\n",
       "      <th>best_parameters</th>\n",
       "    </tr>\n",
       "  </thead>\n",
       "  <tbody>\n",
       "    <tr>\n",
       "      <th>0</th>\n",
       "      <td>linear_regression</td>\n",
       "      <td>0.783599</td>\n",
       "      <td>{'fit_intercept': True}</td>\n",
       "    </tr>\n",
       "    <tr>\n",
       "      <th>1</th>\n",
       "      <td>lasso</td>\n",
       "      <td>0.759209</td>\n",
       "      <td>{'selection': 'cyclic', 'alpha': 0.1}</td>\n",
       "    </tr>\n",
       "    <tr>\n",
       "      <th>2</th>\n",
       "      <td>decision_tree</td>\n",
       "      <td>0.693308</td>\n",
       "      <td>{'max_depth': 10, 'criterion': 'squared_error'}</td>\n",
       "    </tr>\n",
       "    <tr>\n",
       "      <th>3</th>\n",
       "      <td>random_forest</td>\n",
       "      <td>0.794299</td>\n",
       "      <td>{'n_estimators': 100, 'max_depth': None}</td>\n",
       "    </tr>\n",
       "    <tr>\n",
       "      <th>4</th>\n",
       "      <td>xgboost</td>\n",
       "      <td>0.794418</td>\n",
       "      <td>{'n_estimators': 100, 'max_depth': 6, 'learnin...</td>\n",
       "    </tr>\n",
       "  </tbody>\n",
       "</table>\n",
       "</div>"
      ],
      "text/plain": [
       "               model  best_score  \\\n",
       "0  linear_regression    0.783599   \n",
       "1              lasso    0.759209   \n",
       "2      decision_tree    0.693308   \n",
       "3      random_forest    0.794299   \n",
       "4            xgboost    0.794418   \n",
       "\n",
       "                                     best_parameters  \n",
       "0                            {'fit_intercept': True}  \n",
       "1              {'selection': 'cyclic', 'alpha': 0.1}  \n",
       "2    {'max_depth': 10, 'criterion': 'squared_error'}  \n",
       "3           {'n_estimators': 100, 'max_depth': None}  \n",
       "4  {'n_estimators': 100, 'max_depth': 6, 'learnin...  "
      ]
     },
     "execution_count": 324,
     "metadata": {},
     "output_type": "execute_result"
    }
   ],
   "source": [
    "# Running the optimized function\n",
    "best_models = best_algo_finder(X, y)\n",
    "best_models"
   ]
  },
  {
   "cell_type": "markdown",
   "id": "19a09ecb-00e9-4e51-a7ee-fc7206651ef6",
   "metadata": {},
   "source": [
    "### Selecting the Best Model for Price Prediction\n",
    "After performing **Grid Search & Cross-Validation**, we analyzed multiple models and their performance. Based on the **R² score**, we selected the best-performing model.\n",
    "\n",
    "---\n",
    "\n",
    "#### **Model Selection Conclusion**\n",
    "#### **Best Model → Random Forest**\n",
    "**Highest R² Score**, meaning it explains the most variance in price.  \n",
    "**Less prone to overfitting** than Decision Trees.  \n",
    "**Handles non-linearity well**, making it **ideal for real estate pricing**.  \n",
    "\n",
    "---\n",
    "\n",
    "#### **Alternative → XGBoost**\n",
    "Slightly lower than Random Forest but **still highly accurate**.  \n",
    "**More efficient** for large-scale deployment & real-time predictions.  \n",
    "**Better feature selection** capabilities.  \n",
    "\n",
    "---\n",
    "\n",
    "#### **Linear Regression → Baseline Model**\n",
    "Performs **reasonably well**, but assumes **a linear relationship**.  \n",
    "**Lacks ability to capture complex interactions** in price factors.  \n",
    "\n",
    "---\n"
   ]
  },
  {
   "cell_type": "code",
   "execution_count": 352,
   "id": "f722b872-d74d-4df4-b393-9a41ac65fd57",
   "metadata": {},
   "outputs": [
    {
     "data": {
      "text/html": [
       "<div>\n",
       "<style scoped>\n",
       "    .dataframe tbody tr th:only-of-type {\n",
       "        vertical-align: middle;\n",
       "    }\n",
       "\n",
       "    .dataframe tbody tr th {\n",
       "        vertical-align: top;\n",
       "    }\n",
       "\n",
       "    .dataframe thead th {\n",
       "        text-align: right;\n",
       "    }\n",
       "</style>\n",
       "<table border=\"1\" class=\"dataframe\">\n",
       "  <thead>\n",
       "    <tr style=\"text-align: right;\">\n",
       "      <th></th>\n",
       "      <th>total_sqft</th>\n",
       "      <th>bath</th>\n",
       "      <th>bhk</th>\n",
       "      <th>1st Block Jayanagar</th>\n",
       "      <th>1st Phase JP Nagar</th>\n",
       "      <th>2nd Phase Judicial Layout</th>\n",
       "      <th>2nd Stage Nagarbhavi</th>\n",
       "      <th>5th Block Hbr Layout</th>\n",
       "      <th>5th Phase JP Nagar</th>\n",
       "      <th>6th Phase JP Nagar</th>\n",
       "      <th>...</th>\n",
       "      <th>Vijayanagar</th>\n",
       "      <th>Vishveshwarya Layout</th>\n",
       "      <th>Vishwapriya Layout</th>\n",
       "      <th>Vittasandra</th>\n",
       "      <th>Whitefield</th>\n",
       "      <th>Yelachenahalli</th>\n",
       "      <th>Yelahanka</th>\n",
       "      <th>Yelahanka New Town</th>\n",
       "      <th>Yelenahalli</th>\n",
       "      <th>Yeshwanthpur</th>\n",
       "    </tr>\n",
       "  </thead>\n",
       "  <tbody>\n",
       "    <tr>\n",
       "      <th>0</th>\n",
       "      <td>2850.0</td>\n",
       "      <td>4.0</td>\n",
       "      <td>4</td>\n",
       "      <td>1</td>\n",
       "      <td>0</td>\n",
       "      <td>0</td>\n",
       "      <td>0</td>\n",
       "      <td>0</td>\n",
       "      <td>0</td>\n",
       "      <td>0</td>\n",
       "      <td>...</td>\n",
       "      <td>0</td>\n",
       "      <td>0</td>\n",
       "      <td>0</td>\n",
       "      <td>0</td>\n",
       "      <td>0</td>\n",
       "      <td>0</td>\n",
       "      <td>0</td>\n",
       "      <td>0</td>\n",
       "      <td>0</td>\n",
       "      <td>0</td>\n",
       "    </tr>\n",
       "    <tr>\n",
       "      <th>1</th>\n",
       "      <td>1630.0</td>\n",
       "      <td>3.0</td>\n",
       "      <td>3</td>\n",
       "      <td>1</td>\n",
       "      <td>0</td>\n",
       "      <td>0</td>\n",
       "      <td>0</td>\n",
       "      <td>0</td>\n",
       "      <td>0</td>\n",
       "      <td>0</td>\n",
       "      <td>...</td>\n",
       "      <td>0</td>\n",
       "      <td>0</td>\n",
       "      <td>0</td>\n",
       "      <td>0</td>\n",
       "      <td>0</td>\n",
       "      <td>0</td>\n",
       "      <td>0</td>\n",
       "      <td>0</td>\n",
       "      <td>0</td>\n",
       "      <td>0</td>\n",
       "    </tr>\n",
       "    <tr>\n",
       "      <th>2</th>\n",
       "      <td>1875.0</td>\n",
       "      <td>2.0</td>\n",
       "      <td>3</td>\n",
       "      <td>1</td>\n",
       "      <td>0</td>\n",
       "      <td>0</td>\n",
       "      <td>0</td>\n",
       "      <td>0</td>\n",
       "      <td>0</td>\n",
       "      <td>0</td>\n",
       "      <td>...</td>\n",
       "      <td>0</td>\n",
       "      <td>0</td>\n",
       "      <td>0</td>\n",
       "      <td>0</td>\n",
       "      <td>0</td>\n",
       "      <td>0</td>\n",
       "      <td>0</td>\n",
       "      <td>0</td>\n",
       "      <td>0</td>\n",
       "      <td>0</td>\n",
       "    </tr>\n",
       "    <tr>\n",
       "      <th>3</th>\n",
       "      <td>2400.0</td>\n",
       "      <td>4.0</td>\n",
       "      <td>4</td>\n",
       "      <td>1</td>\n",
       "      <td>0</td>\n",
       "      <td>0</td>\n",
       "      <td>0</td>\n",
       "      <td>0</td>\n",
       "      <td>0</td>\n",
       "      <td>0</td>\n",
       "      <td>...</td>\n",
       "      <td>0</td>\n",
       "      <td>0</td>\n",
       "      <td>0</td>\n",
       "      <td>0</td>\n",
       "      <td>0</td>\n",
       "      <td>0</td>\n",
       "      <td>0</td>\n",
       "      <td>0</td>\n",
       "      <td>0</td>\n",
       "      <td>0</td>\n",
       "    </tr>\n",
       "    <tr>\n",
       "      <th>4</th>\n",
       "      <td>1200.0</td>\n",
       "      <td>2.0</td>\n",
       "      <td>3</td>\n",
       "      <td>1</td>\n",
       "      <td>0</td>\n",
       "      <td>0</td>\n",
       "      <td>0</td>\n",
       "      <td>0</td>\n",
       "      <td>0</td>\n",
       "      <td>0</td>\n",
       "      <td>...</td>\n",
       "      <td>0</td>\n",
       "      <td>0</td>\n",
       "      <td>0</td>\n",
       "      <td>0</td>\n",
       "      <td>0</td>\n",
       "      <td>0</td>\n",
       "      <td>0</td>\n",
       "      <td>0</td>\n",
       "      <td>0</td>\n",
       "      <td>0</td>\n",
       "    </tr>\n",
       "    <tr>\n",
       "      <th>...</th>\n",
       "      <td>...</td>\n",
       "      <td>...</td>\n",
       "      <td>...</td>\n",
       "      <td>...</td>\n",
       "      <td>...</td>\n",
       "      <td>...</td>\n",
       "      <td>...</td>\n",
       "      <td>...</td>\n",
       "      <td>...</td>\n",
       "      <td>...</td>\n",
       "      <td>...</td>\n",
       "      <td>...</td>\n",
       "      <td>...</td>\n",
       "      <td>...</td>\n",
       "      <td>...</td>\n",
       "      <td>...</td>\n",
       "      <td>...</td>\n",
       "      <td>...</td>\n",
       "      <td>...</td>\n",
       "      <td>...</td>\n",
       "      <td>...</td>\n",
       "    </tr>\n",
       "    <tr>\n",
       "      <th>11363</th>\n",
       "      <td>1200.0</td>\n",
       "      <td>2.0</td>\n",
       "      <td>2</td>\n",
       "      <td>0</td>\n",
       "      <td>0</td>\n",
       "      <td>0</td>\n",
       "      <td>0</td>\n",
       "      <td>0</td>\n",
       "      <td>0</td>\n",
       "      <td>0</td>\n",
       "      <td>...</td>\n",
       "      <td>0</td>\n",
       "      <td>0</td>\n",
       "      <td>0</td>\n",
       "      <td>0</td>\n",
       "      <td>0</td>\n",
       "      <td>0</td>\n",
       "      <td>0</td>\n",
       "      <td>0</td>\n",
       "      <td>0</td>\n",
       "      <td>0</td>\n",
       "    </tr>\n",
       "    <tr>\n",
       "      <th>11364</th>\n",
       "      <td>1800.0</td>\n",
       "      <td>1.0</td>\n",
       "      <td>1</td>\n",
       "      <td>0</td>\n",
       "      <td>0</td>\n",
       "      <td>0</td>\n",
       "      <td>0</td>\n",
       "      <td>0</td>\n",
       "      <td>0</td>\n",
       "      <td>0</td>\n",
       "      <td>...</td>\n",
       "      <td>0</td>\n",
       "      <td>0</td>\n",
       "      <td>0</td>\n",
       "      <td>0</td>\n",
       "      <td>0</td>\n",
       "      <td>0</td>\n",
       "      <td>0</td>\n",
       "      <td>0</td>\n",
       "      <td>0</td>\n",
       "      <td>0</td>\n",
       "    </tr>\n",
       "    <tr>\n",
       "      <th>11367</th>\n",
       "      <td>1353.0</td>\n",
       "      <td>2.0</td>\n",
       "      <td>2</td>\n",
       "      <td>0</td>\n",
       "      <td>0</td>\n",
       "      <td>0</td>\n",
       "      <td>0</td>\n",
       "      <td>0</td>\n",
       "      <td>0</td>\n",
       "      <td>0</td>\n",
       "      <td>...</td>\n",
       "      <td>0</td>\n",
       "      <td>0</td>\n",
       "      <td>0</td>\n",
       "      <td>0</td>\n",
       "      <td>0</td>\n",
       "      <td>0</td>\n",
       "      <td>0</td>\n",
       "      <td>0</td>\n",
       "      <td>0</td>\n",
       "      <td>0</td>\n",
       "    </tr>\n",
       "    <tr>\n",
       "      <th>11368</th>\n",
       "      <td>812.0</td>\n",
       "      <td>1.0</td>\n",
       "      <td>1</td>\n",
       "      <td>0</td>\n",
       "      <td>0</td>\n",
       "      <td>0</td>\n",
       "      <td>0</td>\n",
       "      <td>0</td>\n",
       "      <td>0</td>\n",
       "      <td>0</td>\n",
       "      <td>...</td>\n",
       "      <td>0</td>\n",
       "      <td>0</td>\n",
       "      <td>0</td>\n",
       "      <td>0</td>\n",
       "      <td>0</td>\n",
       "      <td>0</td>\n",
       "      <td>0</td>\n",
       "      <td>0</td>\n",
       "      <td>0</td>\n",
       "      <td>0</td>\n",
       "    </tr>\n",
       "    <tr>\n",
       "      <th>11371</th>\n",
       "      <td>3600.0</td>\n",
       "      <td>5.0</td>\n",
       "      <td>4</td>\n",
       "      <td>0</td>\n",
       "      <td>0</td>\n",
       "      <td>0</td>\n",
       "      <td>0</td>\n",
       "      <td>0</td>\n",
       "      <td>0</td>\n",
       "      <td>0</td>\n",
       "      <td>...</td>\n",
       "      <td>0</td>\n",
       "      <td>0</td>\n",
       "      <td>0</td>\n",
       "      <td>0</td>\n",
       "      <td>0</td>\n",
       "      <td>0</td>\n",
       "      <td>0</td>\n",
       "      <td>0</td>\n",
       "      <td>0</td>\n",
       "      <td>0</td>\n",
       "    </tr>\n",
       "  </tbody>\n",
       "</table>\n",
       "<p>8122 rows × 243 columns</p>\n",
       "</div>"
      ],
      "text/plain": [
       "       total_sqft  bath  bhk  1st Block Jayanagar  1st Phase JP Nagar  \\\n",
       "0          2850.0   4.0    4                    1                   0   \n",
       "1          1630.0   3.0    3                    1                   0   \n",
       "2          1875.0   2.0    3                    1                   0   \n",
       "3          2400.0   4.0    4                    1                   0   \n",
       "4          1200.0   2.0    3                    1                   0   \n",
       "...           ...   ...  ...                  ...                 ...   \n",
       "11363      1200.0   2.0    2                    0                   0   \n",
       "11364      1800.0   1.0    1                    0                   0   \n",
       "11367      1353.0   2.0    2                    0                   0   \n",
       "11368       812.0   1.0    1                    0                   0   \n",
       "11371      3600.0   5.0    4                    0                   0   \n",
       "\n",
       "       2nd Phase Judicial Layout  2nd Stage Nagarbhavi  5th Block Hbr Layout  \\\n",
       "0                              0                     0                     0   \n",
       "1                              0                     0                     0   \n",
       "2                              0                     0                     0   \n",
       "3                              0                     0                     0   \n",
       "4                              0                     0                     0   \n",
       "...                          ...                   ...                   ...   \n",
       "11363                          0                     0                     0   \n",
       "11364                          0                     0                     0   \n",
       "11367                          0                     0                     0   \n",
       "11368                          0                     0                     0   \n",
       "11371                          0                     0                     0   \n",
       "\n",
       "       5th Phase JP Nagar  6th Phase JP Nagar  ...  Vijayanagar  \\\n",
       "0                       0                   0  ...            0   \n",
       "1                       0                   0  ...            0   \n",
       "2                       0                   0  ...            0   \n",
       "3                       0                   0  ...            0   \n",
       "4                       0                   0  ...            0   \n",
       "...                   ...                 ...  ...          ...   \n",
       "11363                   0                   0  ...            0   \n",
       "11364                   0                   0  ...            0   \n",
       "11367                   0                   0  ...            0   \n",
       "11368                   0                   0  ...            0   \n",
       "11371                   0                   0  ...            0   \n",
       "\n",
       "       Vishveshwarya Layout  Vishwapriya Layout  Vittasandra  Whitefield  \\\n",
       "0                         0                   0            0           0   \n",
       "1                         0                   0            0           0   \n",
       "2                         0                   0            0           0   \n",
       "3                         0                   0            0           0   \n",
       "4                         0                   0            0           0   \n",
       "...                     ...                 ...          ...         ...   \n",
       "11363                     0                   0            0           0   \n",
       "11364                     0                   0            0           0   \n",
       "11367                     0                   0            0           0   \n",
       "11368                     0                   0            0           0   \n",
       "11371                     0                   0            0           0   \n",
       "\n",
       "       Yelachenahalli  Yelahanka  Yelahanka New Town  Yelenahalli  \\\n",
       "0                   0          0                   0            0   \n",
       "1                   0          0                   0            0   \n",
       "2                   0          0                   0            0   \n",
       "3                   0          0                   0            0   \n",
       "4                   0          0                   0            0   \n",
       "...               ...        ...                 ...          ...   \n",
       "11363               0          0                   0            0   \n",
       "11364               0          0                   0            0   \n",
       "11367               0          0                   0            0   \n",
       "11368               0          0                   0            0   \n",
       "11371               0          0                   0            0   \n",
       "\n",
       "       Yeshwanthpur  \n",
       "0                 0  \n",
       "1                 0  \n",
       "2                 0  \n",
       "3                 0  \n",
       "4                 0  \n",
       "...             ...  \n",
       "11363             0  \n",
       "11364             0  \n",
       "11367             0  \n",
       "11368             0  \n",
       "11371             0  \n",
       "\n",
       "[8122 rows x 243 columns]"
      ]
     },
     "execution_count": 352,
     "metadata": {},
     "output_type": "execute_result"
    }
   ],
   "source": [
    "X"
   ]
  },
  {
   "cell_type": "markdown",
   "id": "b9d9167d-0c17-49f6-bff5-3969db6ac97f",
   "metadata": {},
   "source": [
    "## **7.Train & Evaluate the Best Model**\n",
    "Now that we selected **Random Forest**, let's train and evaluate it."
   ]
  },
  {
   "cell_type": "code",
   "execution_count": 329,
   "id": "d1214fbf-6591-48eb-a388-3c39aadbf699",
   "metadata": {},
   "outputs": [
    {
     "name": "stdout",
     "output_type": "stream",
     "text": [
      "Random Forest R² Score: 0.7986\n",
      "Random Forest MAE: 21.51 Lakhs\n"
     ]
    }
   ],
   "source": [
    "from sklearn.metrics import r2_score, mean_absolute_error\n",
    "\n",
    "# Train the best Random Forest model\n",
    "best_rf = RandomForestRegressor(n_estimators=100, max_depth=None, random_state=42)\n",
    "best_rf.fit(X_train, y_train)\n",
    "\n",
    "# Predictions\n",
    "y_pred_rf = best_rf.predict(X_test)\n",
    "\n",
    "# Evaluate performance\n",
    "r2_rf = r2_score(y_test, y_pred_rf)\n",
    "mae_rf = mean_absolute_error(y_test, y_pred_rf)\n",
    "\n",
    "print(f'Random Forest R² Score: {r2_rf:.4f}')\n",
    "print(f'Random Forest MAE: {mae_rf:.2f} Lakhs')"
   ]
  },
  {
   "cell_type": "markdown",
   "id": "667838fc-f3ec-495f-a56e-1d5128b54bef",
   "metadata": {},
   "source": [
    "## **8. Predicting Property Prices using Random Forest**\n",
    "Now that we have trained our **Random Forest model**, we create a function to predict property prices based on user inputs like:\n",
    "- **Location**\n",
    "- **Square Footage (`sqft`)**\n",
    "- **Number of Bathrooms (`bath`)**\n",
    "- **Number of Bedrooms (`bhk`)**\n",
    "\n",
    "---\n",
    "\n",
    "#### **`predict_price()` Function**\n",
    "This function:\n",
    "- **Encodes the location** using **One-Hot Encoding**.\n",
    "- **Creates a feature vector** matching the trained dataset.\n",
    "- **Uses the trained Random Forest model** (`best_rf`) to predict the price."
   ]
  },
  {
   "cell_type": "code",
   "execution_count": 341,
   "id": "376508de-e9af-45e8-a58d-dfb072a7d1a7",
   "metadata": {},
   "outputs": [],
   "source": [
    "def predict_price(location, sqft, bath, bhk, model=best_rf):\n",
    "    \"\"\"\n",
    "    Predicts the property price based on location, sqft, number of bathrooms, and BHK.\n",
    "\n",
    "    Parameters:\n",
    "    location (str): The location of the property.\n",
    "    sqft (float): The total square footage.\n",
    "    bath (int): The number of bathrooms.\n",
    "    bhk (int): The number of bedrooms (BHK).\n",
    "    model (RandomForestRegressor): The trained Random Forest model.\n",
    "\n",
    "    Returns:\n",
    "    float: Predicted price of the property.\n",
    "    \"\"\"\n",
    "\n",
    "    # Finding the index of the location in the feature set\n",
    "    loc_index = np.where(X.columns == location)[0][0] if location in X.columns else -1\n",
    "\n",
    "    # Creating an input array with zeros (same size as feature set)\n",
    "    x = np.zeros(len(X.columns))\n",
    "\n",
    "    # Assigning feature values\n",
    "    x[0] = sqft  # Assign total square feet\n",
    "    x[1] = bath  # Assign number of bathrooms\n",
    "    x[2] = bhk   # Assign number of bedrooms\n",
    "\n",
    "    # Setting the corresponding location column to 1 (One-Hot Encoding)\n",
    "    if loc_index >= 0:\n",
    "        x[loc_index] = 1\n",
    "\n",
    "\n",
    "    # Convert 'x' into a DataFrame with proper column names\n",
    "    x_df = pd.DataFrame([x], columns=X.columns)\n",
    "\n",
    "    # Predicting price using the trained Random Forest model\n",
    "    return model.predict(x_df)[0]"
   ]
  },
  {
   "cell_type": "code",
   "execution_count": 363,
   "id": "8c2d6c09-1512-4102-8eb1-c8932916b2b7",
   "metadata": {},
   "outputs": [
    {
     "data": {
      "text/plain": [
       "np.float64(176.97916666666663)"
      ]
     },
     "execution_count": 363,
     "metadata": {},
     "output_type": "execute_result"
    }
   ],
   "source": [
    "predict_price('Sarjapur Road, ',2425,4,4)"
   ]
  },
  {
   "cell_type": "code",
   "execution_count": null,
   "id": "16f0f0b4-af12-49f3-912e-9bba7f5ed1e5",
   "metadata": {},
   "outputs": [],
   "source": []
  }
 ],
 "metadata": {
  "kernelspec": {
   "display_name": "Python 3 (ipykernel)",
   "language": "python",
   "name": "python3"
  },
  "language_info": {
   "codemirror_mode": {
    "name": "ipython",
    "version": 3
   },
   "file_extension": ".py",
   "mimetype": "text/x-python",
   "name": "python",
   "nbconvert_exporter": "python",
   "pygments_lexer": "ipython3",
   "version": "3.13.2"
  }
 },
 "nbformat": 4,
 "nbformat_minor": 5
}
